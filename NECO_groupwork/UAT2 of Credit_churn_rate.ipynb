{
 "cells": [
  {
   "cell_type": "code",
   "execution_count": 15,
   "metadata": {
    "executionInfo": {
     "elapsed": 4306,
     "status": "ok",
     "timestamp": 1708367098341,
     "user": {
      "displayName": "Supanut Sookkho",
      "userId": "07518805195197129211"
     },
     "user_tz": 0
    },
    "id": "LuP1HIc0PkRf"
   },
   "outputs": [],
   "source": [
    "import pandas as pd\n",
    "import numpy as np\n",
    "import matplotlib.pyplot as plt"
   ]
  },
  {
   "cell_type": "code",
   "execution_count": 16,
   "metadata": {},
   "outputs": [],
   "source": [
    "import torch\n",
    "import torch.nn as nn"
   ]
  },
  {
   "cell_type": "code",
   "execution_count": 17,
   "metadata": {
    "executionInfo": {
     "elapsed": 4,
     "status": "ok",
     "timestamp": 1708367098341,
     "user": {
      "displayName": "Supanut Sookkho",
      "userId": "07518805195197129211"
     },
     "user_tz": 0
    },
    "id": "zResHfD6Pv3L"
   },
   "outputs": [],
   "source": [
    "df = pd.read_csv('train.csv')"
   ]
  },
  {
   "cell_type": "code",
   "execution_count": 18,
   "metadata": {
    "colab": {
     "base_uri": "https://localhost:8080/",
     "height": 424
    },
    "executionInfo": {
     "elapsed": 657,
     "status": "ok",
     "timestamp": 1708367098995,
     "user": {
      "displayName": "Supanut Sookkho",
      "userId": "07518805195197129211"
     },
     "user_tz": 0
    },
    "id": "ATAs6EmrP6OG",
    "outputId": "1ffbc516-8679-45f2-f624-b377f10e3ccc"
   },
   "outputs": [
    {
     "data": {
      "text/html": [
       "<div>\n",
       "<style scoped>\n",
       "    .dataframe tbody tr th:only-of-type {\n",
       "        vertical-align: middle;\n",
       "    }\n",
       "\n",
       "    .dataframe tbody tr th {\n",
       "        vertical-align: top;\n",
       "    }\n",
       "\n",
       "    .dataframe thead th {\n",
       "        text-align: right;\n",
       "    }\n",
       "</style>\n",
       "<table border=\"1\" class=\"dataframe\">\n",
       "  <thead>\n",
       "    <tr style=\"text-align: right;\">\n",
       "      <th></th>\n",
       "      <th>CreditScore</th>\n",
       "      <th>Geography</th>\n",
       "      <th>Gender</th>\n",
       "      <th>Age</th>\n",
       "      <th>Tenure</th>\n",
       "      <th>Balance</th>\n",
       "      <th>NumOfProducts</th>\n",
       "      <th>HasCrCard</th>\n",
       "      <th>IsActiveMember</th>\n",
       "      <th>EstimatedSalary</th>\n",
       "      <th>Exited</th>\n",
       "    </tr>\n",
       "  </thead>\n",
       "  <tbody>\n",
       "    <tr>\n",
       "      <th>0</th>\n",
       "      <td>668</td>\n",
       "      <td>France</td>\n",
       "      <td>Male</td>\n",
       "      <td>33.0</td>\n",
       "      <td>3</td>\n",
       "      <td>0.00</td>\n",
       "      <td>2</td>\n",
       "      <td>1.0</td>\n",
       "      <td>0.0</td>\n",
       "      <td>181449.97</td>\n",
       "      <td>0</td>\n",
       "    </tr>\n",
       "    <tr>\n",
       "      <th>1</th>\n",
       "      <td>627</td>\n",
       "      <td>France</td>\n",
       "      <td>Male</td>\n",
       "      <td>33.0</td>\n",
       "      <td>1</td>\n",
       "      <td>0.00</td>\n",
       "      <td>2</td>\n",
       "      <td>1.0</td>\n",
       "      <td>1.0</td>\n",
       "      <td>49503.50</td>\n",
       "      <td>0</td>\n",
       "    </tr>\n",
       "    <tr>\n",
       "      <th>2</th>\n",
       "      <td>678</td>\n",
       "      <td>France</td>\n",
       "      <td>Male</td>\n",
       "      <td>40.0</td>\n",
       "      <td>10</td>\n",
       "      <td>0.00</td>\n",
       "      <td>2</td>\n",
       "      <td>1.0</td>\n",
       "      <td>0.0</td>\n",
       "      <td>184866.69</td>\n",
       "      <td>0</td>\n",
       "    </tr>\n",
       "    <tr>\n",
       "      <th>3</th>\n",
       "      <td>581</td>\n",
       "      <td>France</td>\n",
       "      <td>Male</td>\n",
       "      <td>34.0</td>\n",
       "      <td>2</td>\n",
       "      <td>148882.54</td>\n",
       "      <td>1</td>\n",
       "      <td>1.0</td>\n",
       "      <td>1.0</td>\n",
       "      <td>84560.88</td>\n",
       "      <td>0</td>\n",
       "    </tr>\n",
       "    <tr>\n",
       "      <th>4</th>\n",
       "      <td>716</td>\n",
       "      <td>Spain</td>\n",
       "      <td>Male</td>\n",
       "      <td>33.0</td>\n",
       "      <td>5</td>\n",
       "      <td>0.00</td>\n",
       "      <td>2</td>\n",
       "      <td>1.0</td>\n",
       "      <td>1.0</td>\n",
       "      <td>15068.83</td>\n",
       "      <td>0</td>\n",
       "    </tr>\n",
       "    <tr>\n",
       "      <th>...</th>\n",
       "      <td>...</td>\n",
       "      <td>...</td>\n",
       "      <td>...</td>\n",
       "      <td>...</td>\n",
       "      <td>...</td>\n",
       "      <td>...</td>\n",
       "      <td>...</td>\n",
       "      <td>...</td>\n",
       "      <td>...</td>\n",
       "      <td>...</td>\n",
       "      <td>...</td>\n",
       "    </tr>\n",
       "    <tr>\n",
       "      <th>165029</th>\n",
       "      <td>667</td>\n",
       "      <td>Spain</td>\n",
       "      <td>Female</td>\n",
       "      <td>33.0</td>\n",
       "      <td>2</td>\n",
       "      <td>0.00</td>\n",
       "      <td>1</td>\n",
       "      <td>1.0</td>\n",
       "      <td>1.0</td>\n",
       "      <td>131834.75</td>\n",
       "      <td>0</td>\n",
       "    </tr>\n",
       "    <tr>\n",
       "      <th>165030</th>\n",
       "      <td>792</td>\n",
       "      <td>France</td>\n",
       "      <td>Male</td>\n",
       "      <td>35.0</td>\n",
       "      <td>3</td>\n",
       "      <td>0.00</td>\n",
       "      <td>1</td>\n",
       "      <td>0.0</td>\n",
       "      <td>0.0</td>\n",
       "      <td>131834.45</td>\n",
       "      <td>0</td>\n",
       "    </tr>\n",
       "    <tr>\n",
       "      <th>165031</th>\n",
       "      <td>565</td>\n",
       "      <td>France</td>\n",
       "      <td>Male</td>\n",
       "      <td>31.0</td>\n",
       "      <td>5</td>\n",
       "      <td>0.00</td>\n",
       "      <td>1</td>\n",
       "      <td>1.0</td>\n",
       "      <td>1.0</td>\n",
       "      <td>127429.56</td>\n",
       "      <td>0</td>\n",
       "    </tr>\n",
       "    <tr>\n",
       "      <th>165032</th>\n",
       "      <td>554</td>\n",
       "      <td>Spain</td>\n",
       "      <td>Female</td>\n",
       "      <td>30.0</td>\n",
       "      <td>7</td>\n",
       "      <td>161533.00</td>\n",
       "      <td>1</td>\n",
       "      <td>0.0</td>\n",
       "      <td>1.0</td>\n",
       "      <td>71173.03</td>\n",
       "      <td>0</td>\n",
       "    </tr>\n",
       "    <tr>\n",
       "      <th>165033</th>\n",
       "      <td>850</td>\n",
       "      <td>France</td>\n",
       "      <td>Male</td>\n",
       "      <td>31.0</td>\n",
       "      <td>1</td>\n",
       "      <td>0.00</td>\n",
       "      <td>1</td>\n",
       "      <td>1.0</td>\n",
       "      <td>0.0</td>\n",
       "      <td>61581.79</td>\n",
       "      <td>1</td>\n",
       "    </tr>\n",
       "  </tbody>\n",
       "</table>\n",
       "<p>165034 rows × 11 columns</p>\n",
       "</div>"
      ],
      "text/plain": [
       "        CreditScore Geography  Gender   Age  Tenure    Balance  NumOfProducts  \\\n",
       "0               668    France    Male  33.0       3       0.00              2   \n",
       "1               627    France    Male  33.0       1       0.00              2   \n",
       "2               678    France    Male  40.0      10       0.00              2   \n",
       "3               581    France    Male  34.0       2  148882.54              1   \n",
       "4               716     Spain    Male  33.0       5       0.00              2   \n",
       "...             ...       ...     ...   ...     ...        ...            ...   \n",
       "165029          667     Spain  Female  33.0       2       0.00              1   \n",
       "165030          792    France    Male  35.0       3       0.00              1   \n",
       "165031          565    France    Male  31.0       5       0.00              1   \n",
       "165032          554     Spain  Female  30.0       7  161533.00              1   \n",
       "165033          850    France    Male  31.0       1       0.00              1   \n",
       "\n",
       "        HasCrCard  IsActiveMember  EstimatedSalary  Exited  \n",
       "0             1.0             0.0        181449.97       0  \n",
       "1             1.0             1.0         49503.50       0  \n",
       "2             1.0             0.0        184866.69       0  \n",
       "3             1.0             1.0         84560.88       0  \n",
       "4             1.0             1.0         15068.83       0  \n",
       "...           ...             ...              ...     ...  \n",
       "165029        1.0             1.0        131834.75       0  \n",
       "165030        0.0             0.0        131834.45       0  \n",
       "165031        1.0             1.0        127429.56       0  \n",
       "165032        0.0             1.0         71173.03       0  \n",
       "165033        1.0             0.0         61581.79       1  \n",
       "\n",
       "[165034 rows x 11 columns]"
      ]
     },
     "execution_count": 18,
     "metadata": {},
     "output_type": "execute_result"
    }
   ],
   "source": [
    "df = df.drop(['id', 'CustomerId', 'Surname'], axis=1)\n",
    "df"
   ]
  },
  {
   "cell_type": "code",
   "execution_count": 19,
   "metadata": {
    "colab": {
     "base_uri": "https://localhost:8080/",
     "height": 424
    },
    "executionInfo": {
     "elapsed": 7,
     "status": "ok",
     "timestamp": 1708367098995,
     "user": {
      "displayName": "Supanut Sookkho",
      "userId": "07518805195197129211"
     },
     "user_tz": 0
    },
    "id": "OtMj-zW-QM4F",
    "outputId": "04191a9e-1346-429f-9267-4eb50831dddd"
   },
   "outputs": [
    {
     "data": {
      "text/html": [
       "<div>\n",
       "<style scoped>\n",
       "    .dataframe tbody tr th:only-of-type {\n",
       "        vertical-align: middle;\n",
       "    }\n",
       "\n",
       "    .dataframe tbody tr th {\n",
       "        vertical-align: top;\n",
       "    }\n",
       "\n",
       "    .dataframe thead th {\n",
       "        text-align: right;\n",
       "    }\n",
       "</style>\n",
       "<table border=\"1\" class=\"dataframe\">\n",
       "  <thead>\n",
       "    <tr style=\"text-align: right;\">\n",
       "      <th></th>\n",
       "      <th>CreditScore</th>\n",
       "      <th>Geography</th>\n",
       "      <th>Gender</th>\n",
       "      <th>Age</th>\n",
       "      <th>Tenure</th>\n",
       "      <th>Balance</th>\n",
       "      <th>NumOfProducts</th>\n",
       "      <th>HasCrCard</th>\n",
       "      <th>IsActiveMember</th>\n",
       "      <th>EstimatedSalary</th>\n",
       "    </tr>\n",
       "  </thead>\n",
       "  <tbody>\n",
       "    <tr>\n",
       "      <th>0</th>\n",
       "      <td>668</td>\n",
       "      <td>France</td>\n",
       "      <td>Male</td>\n",
       "      <td>33.0</td>\n",
       "      <td>3</td>\n",
       "      <td>0.00</td>\n",
       "      <td>2</td>\n",
       "      <td>1.0</td>\n",
       "      <td>0.0</td>\n",
       "      <td>181449.97</td>\n",
       "    </tr>\n",
       "    <tr>\n",
       "      <th>1</th>\n",
       "      <td>627</td>\n",
       "      <td>France</td>\n",
       "      <td>Male</td>\n",
       "      <td>33.0</td>\n",
       "      <td>1</td>\n",
       "      <td>0.00</td>\n",
       "      <td>2</td>\n",
       "      <td>1.0</td>\n",
       "      <td>1.0</td>\n",
       "      <td>49503.50</td>\n",
       "    </tr>\n",
       "    <tr>\n",
       "      <th>2</th>\n",
       "      <td>678</td>\n",
       "      <td>France</td>\n",
       "      <td>Male</td>\n",
       "      <td>40.0</td>\n",
       "      <td>10</td>\n",
       "      <td>0.00</td>\n",
       "      <td>2</td>\n",
       "      <td>1.0</td>\n",
       "      <td>0.0</td>\n",
       "      <td>184866.69</td>\n",
       "    </tr>\n",
       "    <tr>\n",
       "      <th>3</th>\n",
       "      <td>581</td>\n",
       "      <td>France</td>\n",
       "      <td>Male</td>\n",
       "      <td>34.0</td>\n",
       "      <td>2</td>\n",
       "      <td>148882.54</td>\n",
       "      <td>1</td>\n",
       "      <td>1.0</td>\n",
       "      <td>1.0</td>\n",
       "      <td>84560.88</td>\n",
       "    </tr>\n",
       "    <tr>\n",
       "      <th>4</th>\n",
       "      <td>716</td>\n",
       "      <td>Spain</td>\n",
       "      <td>Male</td>\n",
       "      <td>33.0</td>\n",
       "      <td>5</td>\n",
       "      <td>0.00</td>\n",
       "      <td>2</td>\n",
       "      <td>1.0</td>\n",
       "      <td>1.0</td>\n",
       "      <td>15068.83</td>\n",
       "    </tr>\n",
       "    <tr>\n",
       "      <th>...</th>\n",
       "      <td>...</td>\n",
       "      <td>...</td>\n",
       "      <td>...</td>\n",
       "      <td>...</td>\n",
       "      <td>...</td>\n",
       "      <td>...</td>\n",
       "      <td>...</td>\n",
       "      <td>...</td>\n",
       "      <td>...</td>\n",
       "      <td>...</td>\n",
       "    </tr>\n",
       "    <tr>\n",
       "      <th>165029</th>\n",
       "      <td>667</td>\n",
       "      <td>Spain</td>\n",
       "      <td>Female</td>\n",
       "      <td>33.0</td>\n",
       "      <td>2</td>\n",
       "      <td>0.00</td>\n",
       "      <td>1</td>\n",
       "      <td>1.0</td>\n",
       "      <td>1.0</td>\n",
       "      <td>131834.75</td>\n",
       "    </tr>\n",
       "    <tr>\n",
       "      <th>165030</th>\n",
       "      <td>792</td>\n",
       "      <td>France</td>\n",
       "      <td>Male</td>\n",
       "      <td>35.0</td>\n",
       "      <td>3</td>\n",
       "      <td>0.00</td>\n",
       "      <td>1</td>\n",
       "      <td>0.0</td>\n",
       "      <td>0.0</td>\n",
       "      <td>131834.45</td>\n",
       "    </tr>\n",
       "    <tr>\n",
       "      <th>165031</th>\n",
       "      <td>565</td>\n",
       "      <td>France</td>\n",
       "      <td>Male</td>\n",
       "      <td>31.0</td>\n",
       "      <td>5</td>\n",
       "      <td>0.00</td>\n",
       "      <td>1</td>\n",
       "      <td>1.0</td>\n",
       "      <td>1.0</td>\n",
       "      <td>127429.56</td>\n",
       "    </tr>\n",
       "    <tr>\n",
       "      <th>165032</th>\n",
       "      <td>554</td>\n",
       "      <td>Spain</td>\n",
       "      <td>Female</td>\n",
       "      <td>30.0</td>\n",
       "      <td>7</td>\n",
       "      <td>161533.00</td>\n",
       "      <td>1</td>\n",
       "      <td>0.0</td>\n",
       "      <td>1.0</td>\n",
       "      <td>71173.03</td>\n",
       "    </tr>\n",
       "    <tr>\n",
       "      <th>165033</th>\n",
       "      <td>850</td>\n",
       "      <td>France</td>\n",
       "      <td>Male</td>\n",
       "      <td>31.0</td>\n",
       "      <td>1</td>\n",
       "      <td>0.00</td>\n",
       "      <td>1</td>\n",
       "      <td>1.0</td>\n",
       "      <td>0.0</td>\n",
       "      <td>61581.79</td>\n",
       "    </tr>\n",
       "  </tbody>\n",
       "</table>\n",
       "<p>165034 rows × 10 columns</p>\n",
       "</div>"
      ],
      "text/plain": [
       "        CreditScore Geography  Gender   Age  Tenure    Balance  NumOfProducts  \\\n",
       "0               668    France    Male  33.0       3       0.00              2   \n",
       "1               627    France    Male  33.0       1       0.00              2   \n",
       "2               678    France    Male  40.0      10       0.00              2   \n",
       "3               581    France    Male  34.0       2  148882.54              1   \n",
       "4               716     Spain    Male  33.0       5       0.00              2   \n",
       "...             ...       ...     ...   ...     ...        ...            ...   \n",
       "165029          667     Spain  Female  33.0       2       0.00              1   \n",
       "165030          792    France    Male  35.0       3       0.00              1   \n",
       "165031          565    France    Male  31.0       5       0.00              1   \n",
       "165032          554     Spain  Female  30.0       7  161533.00              1   \n",
       "165033          850    France    Male  31.0       1       0.00              1   \n",
       "\n",
       "        HasCrCard  IsActiveMember  EstimatedSalary  \n",
       "0             1.0             0.0        181449.97  \n",
       "1             1.0             1.0         49503.50  \n",
       "2             1.0             0.0        184866.69  \n",
       "3             1.0             1.0         84560.88  \n",
       "4             1.0             1.0         15068.83  \n",
       "...           ...             ...              ...  \n",
       "165029        1.0             1.0        131834.75  \n",
       "165030        0.0             0.0        131834.45  \n",
       "165031        1.0             1.0        127429.56  \n",
       "165032        0.0             1.0         71173.03  \n",
       "165033        1.0             0.0         61581.79  \n",
       "\n",
       "[165034 rows x 10 columns]"
      ]
     },
     "execution_count": 19,
     "metadata": {},
     "output_type": "execute_result"
    }
   ],
   "source": [
    "X = df.iloc[:, 0:10]\n",
    "y = df.iloc[:, 10]\n",
    "X"
   ]
  },
  {
   "cell_type": "code",
   "execution_count": 20,
   "metadata": {
    "colab": {
     "base_uri": "https://localhost:8080/",
     "height": 424
    },
    "executionInfo": {
     "elapsed": 904,
     "status": "ok",
     "timestamp": 1708367099894,
     "user": {
      "displayName": "Supanut Sookkho",
      "userId": "07518805195197129211"
     },
     "user_tz": 0
    },
    "id": "A-5wjNNVkfuw",
    "outputId": "dfde98a7-4bb6-45f7-cfb6-a7d07219facd"
   },
   "outputs": [
    {
     "data": {
      "text/html": [
       "<div>\n",
       "<style scoped>\n",
       "    .dataframe tbody tr th:only-of-type {\n",
       "        vertical-align: middle;\n",
       "    }\n",
       "\n",
       "    .dataframe tbody tr th {\n",
       "        vertical-align: top;\n",
       "    }\n",
       "\n",
       "    .dataframe thead th {\n",
       "        text-align: right;\n",
       "    }\n",
       "</style>\n",
       "<table border=\"1\" class=\"dataframe\">\n",
       "  <thead>\n",
       "    <tr style=\"text-align: right;\">\n",
       "      <th></th>\n",
       "      <th>CreditScore</th>\n",
       "      <th>Geography</th>\n",
       "      <th>Gender</th>\n",
       "      <th>Age</th>\n",
       "      <th>Tenure</th>\n",
       "      <th>Balance</th>\n",
       "      <th>NumOfProducts</th>\n",
       "      <th>HasCrCard</th>\n",
       "      <th>IsActiveMember</th>\n",
       "      <th>EstimatedSalary</th>\n",
       "    </tr>\n",
       "  </thead>\n",
       "  <tbody>\n",
       "    <tr>\n",
       "      <th>0</th>\n",
       "      <td>668</td>\n",
       "      <td>0</td>\n",
       "      <td>1</td>\n",
       "      <td>33.0</td>\n",
       "      <td>3</td>\n",
       "      <td>0.00</td>\n",
       "      <td>2</td>\n",
       "      <td>1.0</td>\n",
       "      <td>0.0</td>\n",
       "      <td>181449.97</td>\n",
       "    </tr>\n",
       "    <tr>\n",
       "      <th>1</th>\n",
       "      <td>627</td>\n",
       "      <td>0</td>\n",
       "      <td>1</td>\n",
       "      <td>33.0</td>\n",
       "      <td>1</td>\n",
       "      <td>0.00</td>\n",
       "      <td>2</td>\n",
       "      <td>1.0</td>\n",
       "      <td>1.0</td>\n",
       "      <td>49503.50</td>\n",
       "    </tr>\n",
       "    <tr>\n",
       "      <th>2</th>\n",
       "      <td>678</td>\n",
       "      <td>0</td>\n",
       "      <td>1</td>\n",
       "      <td>40.0</td>\n",
       "      <td>10</td>\n",
       "      <td>0.00</td>\n",
       "      <td>2</td>\n",
       "      <td>1.0</td>\n",
       "      <td>0.0</td>\n",
       "      <td>184866.69</td>\n",
       "    </tr>\n",
       "    <tr>\n",
       "      <th>3</th>\n",
       "      <td>581</td>\n",
       "      <td>0</td>\n",
       "      <td>1</td>\n",
       "      <td>34.0</td>\n",
       "      <td>2</td>\n",
       "      <td>148882.54</td>\n",
       "      <td>1</td>\n",
       "      <td>1.0</td>\n",
       "      <td>1.0</td>\n",
       "      <td>84560.88</td>\n",
       "    </tr>\n",
       "    <tr>\n",
       "      <th>4</th>\n",
       "      <td>716</td>\n",
       "      <td>2</td>\n",
       "      <td>1</td>\n",
       "      <td>33.0</td>\n",
       "      <td>5</td>\n",
       "      <td>0.00</td>\n",
       "      <td>2</td>\n",
       "      <td>1.0</td>\n",
       "      <td>1.0</td>\n",
       "      <td>15068.83</td>\n",
       "    </tr>\n",
       "    <tr>\n",
       "      <th>...</th>\n",
       "      <td>...</td>\n",
       "      <td>...</td>\n",
       "      <td>...</td>\n",
       "      <td>...</td>\n",
       "      <td>...</td>\n",
       "      <td>...</td>\n",
       "      <td>...</td>\n",
       "      <td>...</td>\n",
       "      <td>...</td>\n",
       "      <td>...</td>\n",
       "    </tr>\n",
       "    <tr>\n",
       "      <th>165029</th>\n",
       "      <td>667</td>\n",
       "      <td>2</td>\n",
       "      <td>0</td>\n",
       "      <td>33.0</td>\n",
       "      <td>2</td>\n",
       "      <td>0.00</td>\n",
       "      <td>1</td>\n",
       "      <td>1.0</td>\n",
       "      <td>1.0</td>\n",
       "      <td>131834.75</td>\n",
       "    </tr>\n",
       "    <tr>\n",
       "      <th>165030</th>\n",
       "      <td>792</td>\n",
       "      <td>0</td>\n",
       "      <td>1</td>\n",
       "      <td>35.0</td>\n",
       "      <td>3</td>\n",
       "      <td>0.00</td>\n",
       "      <td>1</td>\n",
       "      <td>0.0</td>\n",
       "      <td>0.0</td>\n",
       "      <td>131834.45</td>\n",
       "    </tr>\n",
       "    <tr>\n",
       "      <th>165031</th>\n",
       "      <td>565</td>\n",
       "      <td>0</td>\n",
       "      <td>1</td>\n",
       "      <td>31.0</td>\n",
       "      <td>5</td>\n",
       "      <td>0.00</td>\n",
       "      <td>1</td>\n",
       "      <td>1.0</td>\n",
       "      <td>1.0</td>\n",
       "      <td>127429.56</td>\n",
       "    </tr>\n",
       "    <tr>\n",
       "      <th>165032</th>\n",
       "      <td>554</td>\n",
       "      <td>2</td>\n",
       "      <td>0</td>\n",
       "      <td>30.0</td>\n",
       "      <td>7</td>\n",
       "      <td>161533.00</td>\n",
       "      <td>1</td>\n",
       "      <td>0.0</td>\n",
       "      <td>1.0</td>\n",
       "      <td>71173.03</td>\n",
       "    </tr>\n",
       "    <tr>\n",
       "      <th>165033</th>\n",
       "      <td>850</td>\n",
       "      <td>0</td>\n",
       "      <td>1</td>\n",
       "      <td>31.0</td>\n",
       "      <td>1</td>\n",
       "      <td>0.00</td>\n",
       "      <td>1</td>\n",
       "      <td>1.0</td>\n",
       "      <td>0.0</td>\n",
       "      <td>61581.79</td>\n",
       "    </tr>\n",
       "  </tbody>\n",
       "</table>\n",
       "<p>165034 rows × 10 columns</p>\n",
       "</div>"
      ],
      "text/plain": [
       "        CreditScore  Geography  Gender   Age  Tenure    Balance  \\\n",
       "0               668          0       1  33.0       3       0.00   \n",
       "1               627          0       1  33.0       1       0.00   \n",
       "2               678          0       1  40.0      10       0.00   \n",
       "3               581          0       1  34.0       2  148882.54   \n",
       "4               716          2       1  33.0       5       0.00   \n",
       "...             ...        ...     ...   ...     ...        ...   \n",
       "165029          667          2       0  33.0       2       0.00   \n",
       "165030          792          0       1  35.0       3       0.00   \n",
       "165031          565          0       1  31.0       5       0.00   \n",
       "165032          554          2       0  30.0       7  161533.00   \n",
       "165033          850          0       1  31.0       1       0.00   \n",
       "\n",
       "        NumOfProducts  HasCrCard  IsActiveMember  EstimatedSalary  \n",
       "0                   2        1.0             0.0        181449.97  \n",
       "1                   2        1.0             1.0         49503.50  \n",
       "2                   2        1.0             0.0        184866.69  \n",
       "3                   1        1.0             1.0         84560.88  \n",
       "4                   2        1.0             1.0         15068.83  \n",
       "...               ...        ...             ...              ...  \n",
       "165029              1        1.0             1.0        131834.75  \n",
       "165030              1        0.0             0.0        131834.45  \n",
       "165031              1        1.0             1.0        127429.56  \n",
       "165032              1        0.0             1.0         71173.03  \n",
       "165033              1        1.0             0.0         61581.79  \n",
       "\n",
       "[165034 rows x 10 columns]"
      ]
     },
     "execution_count": 20,
     "metadata": {},
     "output_type": "execute_result"
    }
   ],
   "source": [
    "## Encoding categorical data\n",
    "from sklearn.preprocessing import LabelEncoder\n",
    "from sklearn.preprocessing import OrdinalEncoder\n",
    "\n",
    "# Convert categorical label to binary numerical label\n",
    "LabelEncoder = LabelEncoder()\n",
    "X = X.copy()\n",
    "\n",
    "# Encododing the label.\n",
    "X['Geography'] = LabelEncoder.fit_transform(X['Geography'])\n",
    "X['Gender'] = LabelEncoder.fit_transform(X['Gender'])\n",
    "X"
   ]
  },
  {
   "cell_type": "code",
   "execution_count": 21,
   "metadata": {
    "colab": {
     "base_uri": "https://localhost:8080/"
    },
    "executionInfo": {
     "elapsed": 8,
     "status": "ok",
     "timestamp": 1708367099894,
     "user": {
      "displayName": "Supanut Sookkho",
      "userId": "07518805195197129211"
     },
     "user_tz": 0
    },
    "id": "Mv4JcitRQcn3",
    "outputId": "5e1e9a69-6d35-464a-b2a9-84559ba2ab67"
   },
   "outputs": [
    {
     "data": {
      "text/plain": [
       "0         0\n",
       "1         0\n",
       "2         0\n",
       "3         0\n",
       "4         0\n",
       "         ..\n",
       "165029    0\n",
       "165030    0\n",
       "165031    0\n",
       "165032    0\n",
       "165033    1\n",
       "Name: Exited, Length: 165034, dtype: int64"
      ]
     },
     "execution_count": 21,
     "metadata": {},
     "output_type": "execute_result"
    }
   ],
   "source": [
    "y"
   ]
  },
  {
   "cell_type": "code",
   "execution_count": 22,
   "metadata": {
    "colab": {
     "base_uri": "https://localhost:8080/"
    },
    "executionInfo": {
     "elapsed": 8,
     "status": "ok",
     "timestamp": 1708367099895,
     "user": {
      "displayName": "Supanut Sookkho",
      "userId": "07518805195197129211"
     },
     "user_tz": 0
    },
    "id": "kdEc2FpMTTxv",
    "outputId": "3e3bddbe-6b4d-4079-b741-a0ef44799f8a"
   },
   "outputs": [
    {
     "name": "stdout",
     "output_type": "stream",
     "text": [
      "<class 'pandas.core.frame.DataFrame'>\n",
      "<class 'pandas.core.series.Series'>\n",
      "(165034, 10)\n",
      "(165034,)\n"
     ]
    }
   ],
   "source": [
    "print(type(X))\n",
    "print(type(y))\n",
    "print(X.shape)\n",
    "print(y.shape)"
   ]
  },
  {
   "cell_type": "code",
   "execution_count": 23,
   "metadata": {
    "colab": {
     "base_uri": "https://localhost:8080/"
    },
    "executionInfo": {
     "elapsed": 7,
     "status": "ok",
     "timestamp": 1708367099895,
     "user": {
      "displayName": "Supanut Sookkho",
      "userId": "07518805195197129211"
     },
     "user_tz": 0
    },
    "id": "n_WajtzcpQMH",
    "outputId": "97f1d9e2-b7ad-491d-83f1-385139674285"
   },
   "outputs": [
    {
     "name": "stdout",
     "output_type": "stream",
     "text": [
      "<class 'numpy.ndarray'>\n",
      "<class 'numpy.ndarray'>\n",
      "(165034, 10)\n",
      "(165034,)\n"
     ]
    }
   ],
   "source": [
    "# Convert Pandas to Numpy array\n",
    "X = X.values\n",
    "y = y.values\n",
    "\n",
    "print(type(X))\n",
    "print(type(y))\n",
    "print(X.shape)\n",
    "print(y.shape)"
   ]
  },
  {
   "cell_type": "code",
   "execution_count": 24,
   "metadata": {
    "colab": {
     "base_uri": "https://localhost:8080/"
    },
    "executionInfo": {
     "elapsed": 5,
     "status": "ok",
     "timestamp": 1708367099895,
     "user": {
      "displayName": "Supanut Sookkho",
      "userId": "07518805195197129211"
     },
     "user_tz": 0
    },
    "id": "Zq0tWwoPg3Rb",
    "outputId": "777bdc29-6884-4b98-b81b-0d05ecf53918"
   },
   "outputs": [
    {
     "name": "stdout",
     "output_type": "stream",
     "text": [
      "<class 'torch.Tensor'>\n",
      "<class 'torch.Tensor'>\n",
      "torch.Size([165034, 10])\n",
      "torch.Size([165034])\n"
     ]
    }
   ],
   "source": [
    "# Convert Numpy array to Tensor\n",
    "X = torch.tensor(X, dtype=torch.float32)\n",
    "y = torch.tensor(y, dtype=torch.float32)\n",
    "print(type(X))\n",
    "print(type(y))\n",
    "print(X.shape)\n",
    "print(y.shape)"
   ]
  },
  {
   "cell_type": "code",
   "execution_count": 25,
   "metadata": {
    "colab": {
     "base_uri": "https://localhost:8080/"
    },
    "executionInfo": {
     "elapsed": 4,
     "status": "ok",
     "timestamp": 1708367099895,
     "user": {
      "displayName": "Supanut Sookkho",
      "userId": "07518805195197129211"
     },
     "user_tz": 0
    },
    "id": "RWVOEXQLWKko",
    "outputId": "f9066a7e-b209-4e13-a829-599cdbb751cf"
   },
   "outputs": [
    {
     "name": "stdout",
     "output_type": "stream",
     "text": [
      "torch.float32\n"
     ]
    }
   ],
   "source": [
    "random_state = 123\n",
    "\n",
    "# Split the training data set to training (70%) and testing set (30%)\n",
    "from sklearn.model_selection import train_test_split\n",
    "X_train, X_test, y_train, y_test = train_test_split(X,\n",
    "                                                    y,\n",
    "                                                    test_size=0.3,\n",
    "                                                    random_state=random_state\n",
    ")\n",
    "\n",
    "print(X_train.dtype)\n",
    "\n",
    "#  Split the testing data set for validation (50%) and test (50%)\n",
    "X_test, X_vali, y_test, y_vali = train_test_split(X_test, y_test, test_size=0.5, random_state=random_state)\n"
   ]
  },
  {
   "cell_type": "code",
   "execution_count": 26,
   "metadata": {
    "executionInfo": {
     "elapsed": 412,
     "status": "ok",
     "timestamp": 1708367100304,
     "user": {
      "displayName": "Supanut Sookkho",
      "userId": "07518805195197129211"
     },
     "user_tz": 0
    },
    "id": "D9ykOlcThjRo"
   },
   "outputs": [],
   "source": [
    "# Normalization\n",
    "from sklearn.preprocessing import MinMaxScaler\n",
    "normal_scaler = MinMaxScaler()\n",
    "X_train_normalized = normal_scaler.fit_transform(X_train)\n",
    "X_vali_normalized = normal_scaler.transform(X_vali)\n",
    "X_test_normalized = normal_scaler.transform(X_test)\n",
    "\n",
    "# Convert to Tensor and rename the X variables\n",
    "X_train = X_train_normalized = torch.tensor(X_train_normalized, dtype=torch.float32)\n",
    "X_vali = X_vali_normalized = torch.tensor(X_vali_normalized, dtype=torch.float32)\n",
    "X_test = X_test_normalized = torch.tensor(X_test_normalized, dtype=torch.float32)"
   ]
  },
  {
   "cell_type": "code",
   "execution_count": 27,
   "metadata": {
    "colab": {
     "base_uri": "https://localhost:8080/"
    },
    "executionInfo": {
     "elapsed": 8,
     "status": "ok",
     "timestamp": 1708367100305,
     "user": {
      "displayName": "Supanut Sookkho",
      "userId": "07518805195197129211"
     },
     "user_tz": 0
    },
    "id": "puOtnYF6WVCS",
    "outputId": "d8af67d0-eee9-40ad-f7d4-4dc6d51ad92a"
   },
   "outputs": [
    {
     "name": "stdout",
     "output_type": "stream",
     "text": [
      "Training dataset\n",
      "torch.float32 torch.Size([115523, 10])\n",
      "torch.float32 torch.Size([115523])\n",
      "Validation dataset\n",
      "torch.float32 torch.Size([24756, 10])\n",
      "torch.float32 torch.Size([24756])\n",
      "Testing dataset\n",
      "torch.float32 torch.Size([24755, 10])\n",
      "torch.float32 torch.Size([24755])\n"
     ]
    }
   ],
   "source": [
    "# Check the size and type of datasets after the splitting\n",
    "print(\"Training dataset\")\n",
    "print(X_train.dtype, X_train.shape)\n",
    "print(y_train.dtype, y_train.shape)\n",
    "\n",
    "print(\"Validation dataset\")\n",
    "print(X_vali.dtype, X_vali.shape)\n",
    "print(y_vali.dtype, y_vali.shape)\n",
    "\n",
    "print(\"Testing dataset\")\n",
    "print(X_test.dtype, X_test.shape)\n",
    "print(y_test.dtype, y_test.shape)"
   ]
  },
  {
   "cell_type": "code",
   "execution_count": 28,
   "metadata": {
    "colab": {
     "base_uri": "https://localhost:8080/"
    },
    "executionInfo": {
     "elapsed": 7,
     "status": "ok",
     "timestamp": 1708367100305,
     "user": {
      "displayName": "Supanut Sookkho",
      "userId": "07518805195197129211"
     },
     "user_tz": 0
    },
    "id": "xWMsaBMaKZDf",
    "outputId": "d1ef1664-8819-4754-a652-221a411ba923"
   },
   "outputs": [
    {
     "name": "stdout",
     "output_type": "stream",
     "text": [
      "Training dataset\n",
      "torch.float32 torch.Size([115523, 10]) <class 'torch.Tensor'>\n",
      "torch.float32 torch.Size([115523, 1]) <class 'torch.Tensor'>\n",
      "Validation dataset\n",
      "torch.float32 torch.Size([24756, 10]) <class 'torch.Tensor'>\n",
      "torch.float32 torch.Size([24756, 1]) <class 'torch.Tensor'>\n",
      "Testing dataset\n",
      "torch.float32 torch.Size([24755, 10]) <class 'torch.Tensor'>\n",
      "torch.float32 torch.Size([24755, 1]) <class 'torch.Tensor'>\n"
     ]
    }
   ],
   "source": [
    "# Increase the dimension of all label variables\n",
    "y_train = y_train.unsqueeze(1)\n",
    "y_test = y_test.unsqueeze(1)\n",
    "y_vali = y_vali.unsqueeze(1)\n",
    "\n",
    "# Final check the datasets before feeding them to the model\n",
    "print(\"Training dataset\")\n",
    "print(X_train.dtype, X_train.shape, type(X_train))\n",
    "print(y_train.dtype, y_train.shape, type(y_train))\n",
    "\n",
    "print(\"Validation dataset\")\n",
    "print(X_vali.dtype, X_vali.shape, type(X_vali))\n",
    "print(y_vali.dtype, y_vali.shape, type(y_vali))\n",
    "\n",
    "print(\"Testing dataset\")\n",
    "print(X_test.dtype, X_test.shape, type(X_train))\n",
    "print(y_test.dtype, y_test.shape, type(y_train))"
   ]
  },
  {
   "cell_type": "code",
   "execution_count": 30,
   "metadata": {},
   "outputs": [],
   "source": [
    "# To make sure we conduct a fair comparison between PyTorch and MatLab, We will use the same datasets to train, validate, and test the model on both 2 platforms\n",
    "# I exported these tensors to CSV files and will upload them for training, validating, and testing in MATLAB.\n",
    "# Please note that we don't need to run this block anymore. We need it only for the preprocessing of the data. \n",
    "# So, I freeze this block of code.\n",
    "\n",
    "# Convert 6 datasets from Tensor back to Numpy\n",
    "#X_train_ndarray = X_train.numpy()\n",
    "#X_test_ndarray = X_test.numpy()\n",
    "#X_vali_ndarray = X_vali.numpy()\n",
    "#y_train_ndarray = y_train.numpy()\n",
    "#y_test_ndarray = y_test.numpy()\n",
    "#y_vali_ndarray = y_vali.numpy()\n",
    "\n",
    "# Save all datasets to CSV file\n",
    "#np.savetxt('X_train_ndarray.csv', X_train_ndarray, delimiter=',')\n",
    "#np.savetxt('X_test_ndarray.csv', X_test_ndarray, delimiter=',')\n",
    "#np.savetxt('X_vali_ndarray.csv', X_vali_ndarray, delimiter=',')\n",
    "#np.savetxt('y_train_ndarray.csv', y_train_ndarray, delimiter=',')\n",
    "#np.savetxt('y_test_ndarray.csv', y_test_ndarray, delimiter=',')\n",
    "#np.savetxt('y_vali_ndarray.csv', y_vali_ndarray, delimiter=',')"
   ]
  },
  {
   "cell_type": "code",
   "execution_count": 31,
   "metadata": {
    "executionInfo": {
     "elapsed": 5,
     "status": "ok",
     "timestamp": 1708367100305,
     "user": {
      "displayName": "Supanut Sookkho",
      "userId": "07518805195197129211"
     },
     "user_tz": 0
    },
    "id": "HJwTdBooXTXU"
   },
   "outputs": [],
   "source": [
    "# Define the structure of the Neural network model\n",
    "input_features = 10\n",
    "output_features = 1\n",
    "\n",
    "# Define hyperparameters for using in grid search to find the best combination\n",
    "learning_rates_grid = [0.01, 0.001, 0.0001]\n",
    "hidden_neurons_grid = [10, 20, 30, 40]\n",
    "\n",
    "# The number of epochs\n",
    "number_of_epochs = 300\n",
    "\n",
    "# Define the null variables to prepare for storing the result of the model\n",
    "best_accuracy = 0.0\n",
    "best_hyperparameters = {}"
   ]
  },
  {
   "cell_type": "code",
   "execution_count": 32,
   "metadata": {
    "executionInfo": {
     "elapsed": 5,
     "status": "ok",
     "timestamp": 1708367100305,
     "user": {
      "displayName": "Supanut Sookkho",
      "userId": "07518805195197129211"
     },
     "user_tz": 0
    },
    "id": "DhzwIzq1Wtjp"
   },
   "outputs": [],
   "source": [
    "# Build the class for Neural network model\n",
    "class Credit_Churn_NN_Model(nn.Module):\n",
    "    def __init__(self, input_features, hidden_neurons, output_features):\n",
    "        super(Credit_Churn_NN_Model, self).__init__()\n",
    "        self.fc1 = nn.Linear(input_features, hidden_neurons)\n",
    "        self.fc2 = nn.Linear(hidden_neurons, output_features)\n",
    "        self.sigmoid = nn.Sigmoid()\n",
    "        self.relu = nn.ReLU()\n",
    "\n",
    "    def forward(self, x):\n",
    "        output_layer1 = self.fc1(x)\n",
    "        l1_activated = self.relu(output_layer1)\n",
    "        output_layer2 = self.fc2(l1_activated)\n",
    "        output_activated = self.sigmoid(output_layer2)\n",
    "        return output_activated\n"
   ]
  },
  {
   "cell_type": "code",
   "execution_count": 1,
   "metadata": {
    "executionInfo": {
     "elapsed": 5,
     "status": "ok",
     "timestamp": 1708367100305,
     "user": {
      "displayName": "Supanut Sookkho",
      "userId": "07518805195197129211"
     },
     "user_tz": 0
    },
    "id": "QU6VlkyVdC9_"
   },
   "outputs": [],
   "source": [
    "# Build the function for the model\n",
    "def train_NN_model(learning_rate, hidden_neurons, X_train, y_train, X_vali, y_vali, number_of_epochs):\n",
    "    model = Credit_Churn_NN_Model(input_features, hidden_neurons, output_features)\n",
    "    criterion = torch.nn.BCELoss(reduction='mean')\n",
    "    optimizer = torch.optim.Adam(model.parameters(), lr=learning_rate)\n",
    "\n",
    "    # Define value holder for plotting in the graph\n",
    "    plot_train_loss = []\n",
    "    plot_vali_loss = []\n",
    "\n",
    "    # Iterate the model e time. e start from 0 to number_of_epochs - 1\n",
    "    for e in range(number_of_epochs):\n",
    "        # Training the model\n",
    "        model.train()\n",
    "        optimizer.zero_grad()\n",
    "        y_train_pred = model(X_train)\n",
    "        train_loss = criterion(y_train_pred, y_train)\n",
    "        train_loss.backward()\n",
    "        optimizer.step()\n",
    "        # append the loss value (Train) to the value holder\n",
    "        plot_train_loss.append(train_loss)\n",
    "\n",
    "        # Validation the model\n",
    "        model.eval()\n",
    "        with torch.no_grad():\n",
    "            y_vali_pred = model(X_vali)\n",
    "            vali_loss = criterion(y_vali_pred, y_vali)\n",
    "            # append the loss value (Validation) to the value holder\n",
    "            plot_vali_loss.append(vali_loss)\n",
    "\n",
    "    return model, plot_train_loss, plot_vali_loss"
   ]
  },
  {
   "cell_type": "code",
   "execution_count": 34,
   "metadata": {
    "colab": {
     "base_uri": "https://localhost:8080/"
    },
    "id": "Uk3Udpx9i9p5",
    "outputId": "2dc837f4-2ddc-437a-a169-3bee52777d14"
   },
   "outputs": [
    {
     "name": "stdout",
     "output_type": "stream",
     "text": [
      "\n",
      "Training the NNet model with learning rate=0.01 and hidden_neurons=10\n",
      "Accuracy rate is 0.8336088917358448\n",
      "\n",
      "Training the NNet model with learning rate=0.01 and hidden_neurons=20\n",
      "Accuracy rate is 0.8364221843269306\n",
      "\n",
      "Training the NNet model with learning rate=0.01 and hidden_neurons=30\n",
      "Accuracy rate is 0.8584697419561472\n",
      "\n",
      "Training the NNet model with learning rate=0.01 and hidden_neurons=40\n",
      "Accuracy rate is 0.8554833236671485\n",
      "\n",
      "Training the NNet model with learning rate=0.001 and hidden_neurons=10\n",
      "Accuracy rate is 0.7893752759190811\n",
      "\n",
      "Training the NNet model with learning rate=0.001 and hidden_neurons=20\n",
      "Accuracy rate is 0.795313487357496\n",
      "\n",
      "Training the NNet model with learning rate=0.001 and hidden_neurons=30\n",
      "Accuracy rate is 0.8066272517161085\n",
      "\n",
      "Training the NNet model with learning rate=0.001 and hidden_neurons=40\n",
      "Accuracy rate is 0.8068523151233954\n",
      "\n",
      "Training the NNet model with learning rate=0.0001 and hidden_neurons=10\n",
      "Accuracy rate is 0.7893752759190811\n",
      "\n",
      "Training the NNet model with learning rate=0.0001 and hidden_neurons=20\n",
      "Accuracy rate is 0.7893752759190811\n",
      "\n",
      "Training the NNet model with learning rate=0.0001 and hidden_neurons=30\n",
      "Accuracy rate is 0.7893752759190811\n",
      "\n",
      "Training the NNet model with learning rate=0.0001 and hidden_neurons=40\n",
      "Accuracy rate is 0.7893752759190811\n",
      "\n",
      "The Best Hyperparameters are  {'learning_rate': 0.01, 'hidden_neurons': 30}\n",
      "Total time taken: 237.49548816680908 seconds\n"
     ]
    }
   ],
   "source": [
    "# We will prepare the running time between Pytorch and MatLab\n",
    "import time\n",
    "# Start the timer\n",
    "start_time = time.time()\n",
    "\n",
    "# Grid search\n",
    "for learning_rate in learning_rates_grid:\n",
    "    for hidden_neurons in hidden_neurons_grid:\n",
    "        print(f\"\\nTraining the NNet model with learning rate={learning_rate} and hidden_neurons={hidden_neurons}\")\n",
    "        # Call the function to train and evaluate the model with the nested loop\n",
    "        trained_model, train_loss, vali_loss = train_NN_model(learning_rate, hidden_neurons, X_train, y_train, X_vali, y_vali, number_of_epochs)\n",
    "\n",
    "        # After calling the train_NN_model() function, We'll get the trained model\n",
    "        # We will evaluate the performance of this model by feeding X trained to the trained model\n",
    "\n",
    "        # Preduct y from the X_train\n",
    "        y_train_pred = (trained_model(X_train).detach().numpy() > 0.5).astype(int)\n",
    "        # Calculate the accuracy rate of the model\n",
    "        accuracy = (y_train_pred == y_train.numpy()).mean()\n",
    "        #accuracy = (y_train_pred == y_train.numpy()).sum()/len(y_train)\n",
    "        print(f\"Accuracy rate is {accuracy}\")\n",
    "\n",
    "        # Check if the current hyperparameters yield a better performance\n",
    "        if accuracy > best_accuracy: # if Yes\n",
    "            best_accuracy = accuracy # Then reassign this hyperparameter's accuracy to the best_accuracy variable\n",
    "            # And replace the best_hyperparameters with the new Lr and Neurons\n",
    "            best_hyperparameters = {'learning_rate': learning_rate, 'hidden_neurons': hidden_neurons}\n",
    "            # And replace the plot variable\n",
    "            train_loss_for_plotting = train_loss\n",
    "            vali_loss_for_plotting = vali_loss\n",
    "\n",
    "# After the final of nested loop, print the highest one\n",
    "print(\"\\nThe Best Hyperparameters are \", best_hyperparameters)\n",
    "\n",
    "# Stop the timer\n",
    "end_time = time.time()\n",
    "# Calculate the total time of running code\n",
    "Total_time = end_time - start_time\n",
    "\n",
    "print(f\"Total time taken: {Total_time} seconds\")"
   ]
  },
  {
   "cell_type": "code",
   "execution_count": 35,
   "metadata": {},
   "outputs": [
    {
     "data": {
      "text/plain": [
       "array([[0],\n",
       "       [0],\n",
       "       [0],\n",
       "       [0],\n",
       "       [0],\n",
       "       [0],\n",
       "       [0],\n",
       "       [0],\n",
       "       [0],\n",
       "       [0],\n",
       "       [0],\n",
       "       [0],\n",
       "       [0],\n",
       "       [0],\n",
       "       [0],\n",
       "       [0],\n",
       "       [0],\n",
       "       [0],\n",
       "       [0],\n",
       "       [0],\n",
       "       [0],\n",
       "       [0],\n",
       "       [0],\n",
       "       [0],\n",
       "       [0],\n",
       "       [0],\n",
       "       [0],\n",
       "       [0],\n",
       "       [0],\n",
       "       [0]])"
      ]
     },
     "execution_count": 35,
     "metadata": {},
     "output_type": "execute_result"
    }
   ],
   "source": [
    "y_train_pred[:30]"
   ]
  },
  {
   "cell_type": "code",
   "execution_count": 36,
   "metadata": {
    "colab": {
     "base_uri": "https://localhost:8080/"
    },
    "executionInfo": {
     "elapsed": 8,
     "status": "ok",
     "timestamp": 1708350140783,
     "user": {
      "displayName": "Supanut Sookkho",
      "userId": "07518805195197129211"
     },
     "user_tz": 0
    },
    "id": "p_89tTAzjjh1",
    "outputId": "2b99184e-3a72-4a6b-f4b0-3ea665d66c6e"
   },
   "outputs": [
    {
     "data": {
      "text/plain": [
       "{'learning_rate': 0.01, 'hidden_neurons': 30}"
      ]
     },
     "execution_count": 36,
     "metadata": {},
     "output_type": "execute_result"
    }
   ],
   "source": [
    "best_hyperparameters"
   ]
  },
  {
   "cell_type": "code",
   "execution_count": 37,
   "metadata": {
    "colab": {
     "base_uri": "https://localhost:8080/"
    },
    "executionInfo": {
     "elapsed": 7,
     "status": "ok",
     "timestamp": 1708350140783,
     "user": {
      "displayName": "Supanut Sookkho",
      "userId": "07518805195197129211"
     },
     "user_tz": 0
    },
    "id": "xJpW9qu_Yhj6",
    "outputId": "3ed73b48-d233-4201-d312-2a10060d9869"
   },
   "outputs": [
    {
     "name": "stdout",
     "output_type": "stream",
     "text": [
      "0.01\n",
      "30\n"
     ]
    }
   ],
   "source": [
    "input_features = 10\n",
    "best_learning_rate = best_hyperparameters['learning_rate']\n",
    "best_hidden_neurons = best_hyperparameters['hidden_neurons']\n",
    "\n",
    "print(best_learning_rate)\n",
    "print(best_hidden_neurons)"
   ]
  },
  {
   "cell_type": "code",
   "execution_count": 38,
   "metadata": {},
   "outputs": [
    {
     "data": {
      "text/plain": [
       "[tensor(0.6663, grad_fn=<BinaryCrossEntropyBackward0>),\n",
       " tensor(0.6397, grad_fn=<BinaryCrossEntropyBackward0>),\n",
       " tensor(0.6151, grad_fn=<BinaryCrossEntropyBackward0>),\n",
       " tensor(0.5921, grad_fn=<BinaryCrossEntropyBackward0>),\n",
       " tensor(0.5708, grad_fn=<BinaryCrossEntropyBackward0>),\n",
       " tensor(0.5518, grad_fn=<BinaryCrossEntropyBackward0>),\n",
       " tensor(0.5359, grad_fn=<BinaryCrossEntropyBackward0>),\n",
       " tensor(0.5239, grad_fn=<BinaryCrossEntropyBackward0>),\n",
       " tensor(0.5163, grad_fn=<BinaryCrossEntropyBackward0>),\n",
       " tensor(0.5130, grad_fn=<BinaryCrossEntropyBackward0>),\n",
       " tensor(0.5129, grad_fn=<BinaryCrossEntropyBackward0>),\n",
       " tensor(0.5147, grad_fn=<BinaryCrossEntropyBackward0>),\n",
       " tensor(0.5166, grad_fn=<BinaryCrossEntropyBackward0>),\n",
       " tensor(0.5176, grad_fn=<BinaryCrossEntropyBackward0>),\n",
       " tensor(0.5171, grad_fn=<BinaryCrossEntropyBackward0>),\n",
       " tensor(0.5151, grad_fn=<BinaryCrossEntropyBackward0>),\n",
       " tensor(0.5120, grad_fn=<BinaryCrossEntropyBackward0>),\n",
       " tensor(0.5081, grad_fn=<BinaryCrossEntropyBackward0>),\n",
       " tensor(0.5040, grad_fn=<BinaryCrossEntropyBackward0>),\n",
       " tensor(0.5001, grad_fn=<BinaryCrossEntropyBackward0>),\n",
       " tensor(0.4967, grad_fn=<BinaryCrossEntropyBackward0>),\n",
       " tensor(0.4939, grad_fn=<BinaryCrossEntropyBackward0>),\n",
       " tensor(0.4918, grad_fn=<BinaryCrossEntropyBackward0>),\n",
       " tensor(0.4903, grad_fn=<BinaryCrossEntropyBackward0>),\n",
       " tensor(0.4891, grad_fn=<BinaryCrossEntropyBackward0>),\n",
       " tensor(0.4882, grad_fn=<BinaryCrossEntropyBackward0>),\n",
       " tensor(0.4872, grad_fn=<BinaryCrossEntropyBackward0>),\n",
       " tensor(0.4861, grad_fn=<BinaryCrossEntropyBackward0>),\n",
       " tensor(0.4848, grad_fn=<BinaryCrossEntropyBackward0>),\n",
       " tensor(0.4832, grad_fn=<BinaryCrossEntropyBackward0>),\n",
       " tensor(0.4814, grad_fn=<BinaryCrossEntropyBackward0>),\n",
       " tensor(0.4794, grad_fn=<BinaryCrossEntropyBackward0>),\n",
       " tensor(0.4774, grad_fn=<BinaryCrossEntropyBackward0>),\n",
       " tensor(0.4752, grad_fn=<BinaryCrossEntropyBackward0>),\n",
       " tensor(0.4731, grad_fn=<BinaryCrossEntropyBackward0>),\n",
       " tensor(0.4710, grad_fn=<BinaryCrossEntropyBackward0>),\n",
       " tensor(0.4691, grad_fn=<BinaryCrossEntropyBackward0>),\n",
       " tensor(0.4673, grad_fn=<BinaryCrossEntropyBackward0>),\n",
       " tensor(0.4657, grad_fn=<BinaryCrossEntropyBackward0>),\n",
       " tensor(0.4643, grad_fn=<BinaryCrossEntropyBackward0>),\n",
       " tensor(0.4629, grad_fn=<BinaryCrossEntropyBackward0>),\n",
       " tensor(0.4616, grad_fn=<BinaryCrossEntropyBackward0>),\n",
       " tensor(0.4602, grad_fn=<BinaryCrossEntropyBackward0>),\n",
       " tensor(0.4588, grad_fn=<BinaryCrossEntropyBackward0>),\n",
       " tensor(0.4575, grad_fn=<BinaryCrossEntropyBackward0>),\n",
       " tensor(0.4562, grad_fn=<BinaryCrossEntropyBackward0>),\n",
       " tensor(0.4550, grad_fn=<BinaryCrossEntropyBackward0>),\n",
       " tensor(0.4539, grad_fn=<BinaryCrossEntropyBackward0>),\n",
       " tensor(0.4529, grad_fn=<BinaryCrossEntropyBackward0>),\n",
       " tensor(0.4521, grad_fn=<BinaryCrossEntropyBackward0>),\n",
       " tensor(0.4513, grad_fn=<BinaryCrossEntropyBackward0>),\n",
       " tensor(0.4504, grad_fn=<BinaryCrossEntropyBackward0>),\n",
       " tensor(0.4495, grad_fn=<BinaryCrossEntropyBackward0>),\n",
       " tensor(0.4486, grad_fn=<BinaryCrossEntropyBackward0>),\n",
       " tensor(0.4478, grad_fn=<BinaryCrossEntropyBackward0>),\n",
       " tensor(0.4471, grad_fn=<BinaryCrossEntropyBackward0>),\n",
       " tensor(0.4464, grad_fn=<BinaryCrossEntropyBackward0>),\n",
       " tensor(0.4457, grad_fn=<BinaryCrossEntropyBackward0>),\n",
       " tensor(0.4450, grad_fn=<BinaryCrossEntropyBackward0>),\n",
       " tensor(0.4443, grad_fn=<BinaryCrossEntropyBackward0>),\n",
       " tensor(0.4436, grad_fn=<BinaryCrossEntropyBackward0>),\n",
       " tensor(0.4428, grad_fn=<BinaryCrossEntropyBackward0>),\n",
       " tensor(0.4421, grad_fn=<BinaryCrossEntropyBackward0>),\n",
       " tensor(0.4414, grad_fn=<BinaryCrossEntropyBackward0>),\n",
       " tensor(0.4407, grad_fn=<BinaryCrossEntropyBackward0>),\n",
       " tensor(0.4400, grad_fn=<BinaryCrossEntropyBackward0>),\n",
       " tensor(0.4393, grad_fn=<BinaryCrossEntropyBackward0>),\n",
       " tensor(0.4386, grad_fn=<BinaryCrossEntropyBackward0>),\n",
       " tensor(0.4379, grad_fn=<BinaryCrossEntropyBackward0>),\n",
       " tensor(0.4372, grad_fn=<BinaryCrossEntropyBackward0>),\n",
       " tensor(0.4365, grad_fn=<BinaryCrossEntropyBackward0>),\n",
       " tensor(0.4358, grad_fn=<BinaryCrossEntropyBackward0>),\n",
       " tensor(0.4351, grad_fn=<BinaryCrossEntropyBackward0>),\n",
       " tensor(0.4344, grad_fn=<BinaryCrossEntropyBackward0>),\n",
       " tensor(0.4337, grad_fn=<BinaryCrossEntropyBackward0>),\n",
       " tensor(0.4331, grad_fn=<BinaryCrossEntropyBackward0>),\n",
       " tensor(0.4324, grad_fn=<BinaryCrossEntropyBackward0>),\n",
       " tensor(0.4317, grad_fn=<BinaryCrossEntropyBackward0>),\n",
       " tensor(0.4310, grad_fn=<BinaryCrossEntropyBackward0>),\n",
       " tensor(0.4303, grad_fn=<BinaryCrossEntropyBackward0>),\n",
       " tensor(0.4296, grad_fn=<BinaryCrossEntropyBackward0>),\n",
       " tensor(0.4288, grad_fn=<BinaryCrossEntropyBackward0>),\n",
       " tensor(0.4280, grad_fn=<BinaryCrossEntropyBackward0>),\n",
       " tensor(0.4273, grad_fn=<BinaryCrossEntropyBackward0>),\n",
       " tensor(0.4266, grad_fn=<BinaryCrossEntropyBackward0>),\n",
       " tensor(0.4259, grad_fn=<BinaryCrossEntropyBackward0>),\n",
       " tensor(0.4251, grad_fn=<BinaryCrossEntropyBackward0>),\n",
       " tensor(0.4244, grad_fn=<BinaryCrossEntropyBackward0>),\n",
       " tensor(0.4237, grad_fn=<BinaryCrossEntropyBackward0>),\n",
       " tensor(0.4230, grad_fn=<BinaryCrossEntropyBackward0>),\n",
       " tensor(0.4223, grad_fn=<BinaryCrossEntropyBackward0>),\n",
       " tensor(0.4216, grad_fn=<BinaryCrossEntropyBackward0>),\n",
       " tensor(0.4209, grad_fn=<BinaryCrossEntropyBackward0>),\n",
       " tensor(0.4202, grad_fn=<BinaryCrossEntropyBackward0>),\n",
       " tensor(0.4195, grad_fn=<BinaryCrossEntropyBackward0>),\n",
       " tensor(0.4188, grad_fn=<BinaryCrossEntropyBackward0>),\n",
       " tensor(0.4182, grad_fn=<BinaryCrossEntropyBackward0>),\n",
       " tensor(0.4175, grad_fn=<BinaryCrossEntropyBackward0>),\n",
       " tensor(0.4168, grad_fn=<BinaryCrossEntropyBackward0>),\n",
       " tensor(0.4161, grad_fn=<BinaryCrossEntropyBackward0>),\n",
       " tensor(0.4154, grad_fn=<BinaryCrossEntropyBackward0>),\n",
       " tensor(0.4147, grad_fn=<BinaryCrossEntropyBackward0>),\n",
       " tensor(0.4139, grad_fn=<BinaryCrossEntropyBackward0>),\n",
       " tensor(0.4131, grad_fn=<BinaryCrossEntropyBackward0>),\n",
       " tensor(0.4123, grad_fn=<BinaryCrossEntropyBackward0>),\n",
       " tensor(0.4114, grad_fn=<BinaryCrossEntropyBackward0>),\n",
       " tensor(0.4105, grad_fn=<BinaryCrossEntropyBackward0>),\n",
       " tensor(0.4095, grad_fn=<BinaryCrossEntropyBackward0>),\n",
       " tensor(0.4086, grad_fn=<BinaryCrossEntropyBackward0>),\n",
       " tensor(0.4078, grad_fn=<BinaryCrossEntropyBackward0>),\n",
       " tensor(0.4070, grad_fn=<BinaryCrossEntropyBackward0>),\n",
       " tensor(0.4065, grad_fn=<BinaryCrossEntropyBackward0>),\n",
       " tensor(0.4060, grad_fn=<BinaryCrossEntropyBackward0>),\n",
       " tensor(0.4056, grad_fn=<BinaryCrossEntropyBackward0>),\n",
       " tensor(0.4050, grad_fn=<BinaryCrossEntropyBackward0>),\n",
       " tensor(0.4042, grad_fn=<BinaryCrossEntropyBackward0>),\n",
       " tensor(0.4034, grad_fn=<BinaryCrossEntropyBackward0>),\n",
       " tensor(0.4026, grad_fn=<BinaryCrossEntropyBackward0>),\n",
       " tensor(0.4019, grad_fn=<BinaryCrossEntropyBackward0>),\n",
       " tensor(0.4013, grad_fn=<BinaryCrossEntropyBackward0>),\n",
       " tensor(0.4007, grad_fn=<BinaryCrossEntropyBackward0>),\n",
       " tensor(0.4002, grad_fn=<BinaryCrossEntropyBackward0>),\n",
       " tensor(0.3996, grad_fn=<BinaryCrossEntropyBackward0>),\n",
       " tensor(0.3990, grad_fn=<BinaryCrossEntropyBackward0>),\n",
       " tensor(0.3983, grad_fn=<BinaryCrossEntropyBackward0>),\n",
       " tensor(0.3977, grad_fn=<BinaryCrossEntropyBackward0>),\n",
       " tensor(0.3970, grad_fn=<BinaryCrossEntropyBackward0>),\n",
       " tensor(0.3964, grad_fn=<BinaryCrossEntropyBackward0>),\n",
       " tensor(0.3959, grad_fn=<BinaryCrossEntropyBackward0>),\n",
       " tensor(0.3953, grad_fn=<BinaryCrossEntropyBackward0>),\n",
       " tensor(0.3948, grad_fn=<BinaryCrossEntropyBackward0>),\n",
       " tensor(0.3943, grad_fn=<BinaryCrossEntropyBackward0>),\n",
       " tensor(0.3937, grad_fn=<BinaryCrossEntropyBackward0>),\n",
       " tensor(0.3931, grad_fn=<BinaryCrossEntropyBackward0>),\n",
       " tensor(0.3925, grad_fn=<BinaryCrossEntropyBackward0>),\n",
       " tensor(0.3920, grad_fn=<BinaryCrossEntropyBackward0>),\n",
       " tensor(0.3914, grad_fn=<BinaryCrossEntropyBackward0>),\n",
       " tensor(0.3908, grad_fn=<BinaryCrossEntropyBackward0>),\n",
       " tensor(0.3903, grad_fn=<BinaryCrossEntropyBackward0>),\n",
       " tensor(0.3897, grad_fn=<BinaryCrossEntropyBackward0>),\n",
       " tensor(0.3891, grad_fn=<BinaryCrossEntropyBackward0>),\n",
       " tensor(0.3885, grad_fn=<BinaryCrossEntropyBackward0>),\n",
       " tensor(0.3879, grad_fn=<BinaryCrossEntropyBackward0>),\n",
       " tensor(0.3873, grad_fn=<BinaryCrossEntropyBackward0>),\n",
       " tensor(0.3867, grad_fn=<BinaryCrossEntropyBackward0>),\n",
       " tensor(0.3861, grad_fn=<BinaryCrossEntropyBackward0>),\n",
       " tensor(0.3855, grad_fn=<BinaryCrossEntropyBackward0>),\n",
       " tensor(0.3848, grad_fn=<BinaryCrossEntropyBackward0>),\n",
       " tensor(0.3842, grad_fn=<BinaryCrossEntropyBackward0>),\n",
       " tensor(0.3836, grad_fn=<BinaryCrossEntropyBackward0>),\n",
       " tensor(0.3829, grad_fn=<BinaryCrossEntropyBackward0>),\n",
       " tensor(0.3823, grad_fn=<BinaryCrossEntropyBackward0>),\n",
       " tensor(0.3817, grad_fn=<BinaryCrossEntropyBackward0>),\n",
       " tensor(0.3811, grad_fn=<BinaryCrossEntropyBackward0>),\n",
       " tensor(0.3804, grad_fn=<BinaryCrossEntropyBackward0>),\n",
       " tensor(0.3798, grad_fn=<BinaryCrossEntropyBackward0>),\n",
       " tensor(0.3792, grad_fn=<BinaryCrossEntropyBackward0>),\n",
       " tensor(0.3786, grad_fn=<BinaryCrossEntropyBackward0>),\n",
       " tensor(0.3780, grad_fn=<BinaryCrossEntropyBackward0>),\n",
       " tensor(0.3774, grad_fn=<BinaryCrossEntropyBackward0>),\n",
       " tensor(0.3768, grad_fn=<BinaryCrossEntropyBackward0>),\n",
       " tensor(0.3761, grad_fn=<BinaryCrossEntropyBackward0>),\n",
       " tensor(0.3755, grad_fn=<BinaryCrossEntropyBackward0>),\n",
       " tensor(0.3749, grad_fn=<BinaryCrossEntropyBackward0>),\n",
       " tensor(0.3743, grad_fn=<BinaryCrossEntropyBackward0>),\n",
       " tensor(0.3737, grad_fn=<BinaryCrossEntropyBackward0>),\n",
       " tensor(0.3731, grad_fn=<BinaryCrossEntropyBackward0>),\n",
       " tensor(0.3724, grad_fn=<BinaryCrossEntropyBackward0>),\n",
       " tensor(0.3718, grad_fn=<BinaryCrossEntropyBackward0>),\n",
       " tensor(0.3712, grad_fn=<BinaryCrossEntropyBackward0>),\n",
       " tensor(0.3706, grad_fn=<BinaryCrossEntropyBackward0>),\n",
       " tensor(0.3700, grad_fn=<BinaryCrossEntropyBackward0>),\n",
       " tensor(0.3693, grad_fn=<BinaryCrossEntropyBackward0>),\n",
       " tensor(0.3688, grad_fn=<BinaryCrossEntropyBackward0>),\n",
       " tensor(0.3681, grad_fn=<BinaryCrossEntropyBackward0>),\n",
       " tensor(0.3675, grad_fn=<BinaryCrossEntropyBackward0>),\n",
       " tensor(0.3669, grad_fn=<BinaryCrossEntropyBackward0>),\n",
       " tensor(0.3663, grad_fn=<BinaryCrossEntropyBackward0>),\n",
       " tensor(0.3657, grad_fn=<BinaryCrossEntropyBackward0>),\n",
       " tensor(0.3651, grad_fn=<BinaryCrossEntropyBackward0>),\n",
       " tensor(0.3645, grad_fn=<BinaryCrossEntropyBackward0>),\n",
       " tensor(0.3639, grad_fn=<BinaryCrossEntropyBackward0>),\n",
       " tensor(0.3634, grad_fn=<BinaryCrossEntropyBackward0>),\n",
       " tensor(0.3628, grad_fn=<BinaryCrossEntropyBackward0>),\n",
       " tensor(0.3622, grad_fn=<BinaryCrossEntropyBackward0>),\n",
       " tensor(0.3617, grad_fn=<BinaryCrossEntropyBackward0>),\n",
       " tensor(0.3611, grad_fn=<BinaryCrossEntropyBackward0>),\n",
       " tensor(0.3605, grad_fn=<BinaryCrossEntropyBackward0>),\n",
       " tensor(0.3599, grad_fn=<BinaryCrossEntropyBackward0>),\n",
       " tensor(0.3594, grad_fn=<BinaryCrossEntropyBackward0>),\n",
       " tensor(0.3588, grad_fn=<BinaryCrossEntropyBackward0>),\n",
       " tensor(0.3583, grad_fn=<BinaryCrossEntropyBackward0>),\n",
       " tensor(0.3577, grad_fn=<BinaryCrossEntropyBackward0>),\n",
       " tensor(0.3571, grad_fn=<BinaryCrossEntropyBackward0>),\n",
       " tensor(0.3565, grad_fn=<BinaryCrossEntropyBackward0>),\n",
       " tensor(0.3560, grad_fn=<BinaryCrossEntropyBackward0>),\n",
       " tensor(0.3554, grad_fn=<BinaryCrossEntropyBackward0>),\n",
       " tensor(0.3549, grad_fn=<BinaryCrossEntropyBackward0>),\n",
       " tensor(0.3544, grad_fn=<BinaryCrossEntropyBackward0>),\n",
       " tensor(0.3538, grad_fn=<BinaryCrossEntropyBackward0>),\n",
       " tensor(0.3534, grad_fn=<BinaryCrossEntropyBackward0>),\n",
       " tensor(0.3529, grad_fn=<BinaryCrossEntropyBackward0>),\n",
       " tensor(0.3524, grad_fn=<BinaryCrossEntropyBackward0>),\n",
       " tensor(0.3520, grad_fn=<BinaryCrossEntropyBackward0>),\n",
       " tensor(0.3515, grad_fn=<BinaryCrossEntropyBackward0>),\n",
       " tensor(0.3511, grad_fn=<BinaryCrossEntropyBackward0>),\n",
       " tensor(0.3507, grad_fn=<BinaryCrossEntropyBackward0>),\n",
       " tensor(0.3503, grad_fn=<BinaryCrossEntropyBackward0>),\n",
       " tensor(0.3499, grad_fn=<BinaryCrossEntropyBackward0>),\n",
       " tensor(0.3495, grad_fn=<BinaryCrossEntropyBackward0>),\n",
       " tensor(0.3491, grad_fn=<BinaryCrossEntropyBackward0>),\n",
       " tensor(0.3488, grad_fn=<BinaryCrossEntropyBackward0>),\n",
       " tensor(0.3484, grad_fn=<BinaryCrossEntropyBackward0>),\n",
       " tensor(0.3481, grad_fn=<BinaryCrossEntropyBackward0>),\n",
       " tensor(0.3478, grad_fn=<BinaryCrossEntropyBackward0>),\n",
       " tensor(0.3474, grad_fn=<BinaryCrossEntropyBackward0>),\n",
       " tensor(0.3471, grad_fn=<BinaryCrossEntropyBackward0>),\n",
       " tensor(0.3468, grad_fn=<BinaryCrossEntropyBackward0>),\n",
       " tensor(0.3465, grad_fn=<BinaryCrossEntropyBackward0>),\n",
       " tensor(0.3462, grad_fn=<BinaryCrossEntropyBackward0>),\n",
       " tensor(0.3459, grad_fn=<BinaryCrossEntropyBackward0>),\n",
       " tensor(0.3456, grad_fn=<BinaryCrossEntropyBackward0>),\n",
       " tensor(0.3453, grad_fn=<BinaryCrossEntropyBackward0>),\n",
       " tensor(0.3450, grad_fn=<BinaryCrossEntropyBackward0>),\n",
       " tensor(0.3447, grad_fn=<BinaryCrossEntropyBackward0>),\n",
       " tensor(0.3445, grad_fn=<BinaryCrossEntropyBackward0>),\n",
       " tensor(0.3442, grad_fn=<BinaryCrossEntropyBackward0>),\n",
       " tensor(0.3440, grad_fn=<BinaryCrossEntropyBackward0>),\n",
       " tensor(0.3437, grad_fn=<BinaryCrossEntropyBackward0>),\n",
       " tensor(0.3435, grad_fn=<BinaryCrossEntropyBackward0>),\n",
       " tensor(0.3432, grad_fn=<BinaryCrossEntropyBackward0>),\n",
       " tensor(0.3430, grad_fn=<BinaryCrossEntropyBackward0>),\n",
       " tensor(0.3428, grad_fn=<BinaryCrossEntropyBackward0>),\n",
       " tensor(0.3425, grad_fn=<BinaryCrossEntropyBackward0>),\n",
       " tensor(0.3423, grad_fn=<BinaryCrossEntropyBackward0>),\n",
       " tensor(0.3421, grad_fn=<BinaryCrossEntropyBackward0>),\n",
       " tensor(0.3419, grad_fn=<BinaryCrossEntropyBackward0>),\n",
       " tensor(0.3417, grad_fn=<BinaryCrossEntropyBackward0>),\n",
       " tensor(0.3415, grad_fn=<BinaryCrossEntropyBackward0>),\n",
       " tensor(0.3414, grad_fn=<BinaryCrossEntropyBackward0>),\n",
       " tensor(0.3412, grad_fn=<BinaryCrossEntropyBackward0>),\n",
       " tensor(0.3410, grad_fn=<BinaryCrossEntropyBackward0>),\n",
       " tensor(0.3408, grad_fn=<BinaryCrossEntropyBackward0>),\n",
       " tensor(0.3407, grad_fn=<BinaryCrossEntropyBackward0>),\n",
       " tensor(0.3405, grad_fn=<BinaryCrossEntropyBackward0>),\n",
       " tensor(0.3403, grad_fn=<BinaryCrossEntropyBackward0>),\n",
       " tensor(0.3402, grad_fn=<BinaryCrossEntropyBackward0>),\n",
       " tensor(0.3401, grad_fn=<BinaryCrossEntropyBackward0>),\n",
       " tensor(0.3399, grad_fn=<BinaryCrossEntropyBackward0>),\n",
       " tensor(0.3398, grad_fn=<BinaryCrossEntropyBackward0>),\n",
       " tensor(0.3397, grad_fn=<BinaryCrossEntropyBackward0>),\n",
       " tensor(0.3395, grad_fn=<BinaryCrossEntropyBackward0>),\n",
       " tensor(0.3394, grad_fn=<BinaryCrossEntropyBackward0>),\n",
       " tensor(0.3393, grad_fn=<BinaryCrossEntropyBackward0>),\n",
       " tensor(0.3392, grad_fn=<BinaryCrossEntropyBackward0>),\n",
       " tensor(0.3391, grad_fn=<BinaryCrossEntropyBackward0>),\n",
       " tensor(0.3390, grad_fn=<BinaryCrossEntropyBackward0>),\n",
       " tensor(0.3389, grad_fn=<BinaryCrossEntropyBackward0>),\n",
       " tensor(0.3388, grad_fn=<BinaryCrossEntropyBackward0>),\n",
       " tensor(0.3387, grad_fn=<BinaryCrossEntropyBackward0>),\n",
       " tensor(0.3386, grad_fn=<BinaryCrossEntropyBackward0>),\n",
       " tensor(0.3385, grad_fn=<BinaryCrossEntropyBackward0>),\n",
       " tensor(0.3384, grad_fn=<BinaryCrossEntropyBackward0>),\n",
       " tensor(0.3383, grad_fn=<BinaryCrossEntropyBackward0>),\n",
       " tensor(0.3383, grad_fn=<BinaryCrossEntropyBackward0>),\n",
       " tensor(0.3382, grad_fn=<BinaryCrossEntropyBackward0>),\n",
       " tensor(0.3381, grad_fn=<BinaryCrossEntropyBackward0>),\n",
       " tensor(0.3380, grad_fn=<BinaryCrossEntropyBackward0>),\n",
       " tensor(0.3379, grad_fn=<BinaryCrossEntropyBackward0>),\n",
       " tensor(0.3379, grad_fn=<BinaryCrossEntropyBackward0>),\n",
       " tensor(0.3378, grad_fn=<BinaryCrossEntropyBackward0>),\n",
       " tensor(0.3377, grad_fn=<BinaryCrossEntropyBackward0>),\n",
       " tensor(0.3377, grad_fn=<BinaryCrossEntropyBackward0>),\n",
       " tensor(0.3376, grad_fn=<BinaryCrossEntropyBackward0>),\n",
       " tensor(0.3375, grad_fn=<BinaryCrossEntropyBackward0>),\n",
       " tensor(0.3375, grad_fn=<BinaryCrossEntropyBackward0>),\n",
       " tensor(0.3374, grad_fn=<BinaryCrossEntropyBackward0>),\n",
       " tensor(0.3373, grad_fn=<BinaryCrossEntropyBackward0>),\n",
       " tensor(0.3373, grad_fn=<BinaryCrossEntropyBackward0>),\n",
       " tensor(0.3372, grad_fn=<BinaryCrossEntropyBackward0>),\n",
       " tensor(0.3372, grad_fn=<BinaryCrossEntropyBackward0>),\n",
       " tensor(0.3371, grad_fn=<BinaryCrossEntropyBackward0>),\n",
       " tensor(0.3371, grad_fn=<BinaryCrossEntropyBackward0>),\n",
       " tensor(0.3370, grad_fn=<BinaryCrossEntropyBackward0>),\n",
       " tensor(0.3369, grad_fn=<BinaryCrossEntropyBackward0>),\n",
       " tensor(0.3369, grad_fn=<BinaryCrossEntropyBackward0>),\n",
       " tensor(0.3368, grad_fn=<BinaryCrossEntropyBackward0>),\n",
       " tensor(0.3368, grad_fn=<BinaryCrossEntropyBackward0>),\n",
       " tensor(0.3367, grad_fn=<BinaryCrossEntropyBackward0>),\n",
       " tensor(0.3367, grad_fn=<BinaryCrossEntropyBackward0>),\n",
       " tensor(0.3366, grad_fn=<BinaryCrossEntropyBackward0>),\n",
       " tensor(0.3366, grad_fn=<BinaryCrossEntropyBackward0>),\n",
       " tensor(0.3365, grad_fn=<BinaryCrossEntropyBackward0>),\n",
       " tensor(0.3364, grad_fn=<BinaryCrossEntropyBackward0>),\n",
       " tensor(0.3364, grad_fn=<BinaryCrossEntropyBackward0>),\n",
       " tensor(0.3363, grad_fn=<BinaryCrossEntropyBackward0>),\n",
       " tensor(0.3363, grad_fn=<BinaryCrossEntropyBackward0>),\n",
       " tensor(0.3362, grad_fn=<BinaryCrossEntropyBackward0>),\n",
       " tensor(0.3362, grad_fn=<BinaryCrossEntropyBackward0>),\n",
       " tensor(0.3361, grad_fn=<BinaryCrossEntropyBackward0>)]"
      ]
     },
     "execution_count": 38,
     "metadata": {},
     "output_type": "execute_result"
    }
   ],
   "source": [
    "train_loss_for_plotting"
   ]
  },
  {
   "cell_type": "code",
   "execution_count": 39,
   "metadata": {
    "colab": {
     "base_uri": "https://localhost:8080/"
    },
    "executionInfo": {
     "elapsed": 20,
     "status": "ok",
     "timestamp": 1708350147369,
     "user": {
      "displayName": "Supanut Sookkho",
      "userId": "07518805195197129211"
     },
     "user_tz": 0
    },
    "id": "ih_w3uNYX0k-",
    "outputId": "94bb3bc1-deec-4153-e866-cb88b9051122"
   },
   "outputs": [
    {
     "name": "stdout",
     "output_type": "stream",
     "text": [
      "<class 'list'>\n",
      "<class 'list'>\n"
     ]
    },
    {
     "data": {
      "text/plain": [
       "numpy.ndarray"
      ]
     },
     "execution_count": 39,
     "metadata": {},
     "output_type": "execute_result"
    }
   ],
   "source": [
    "# Convert from Tensor to list to prepare for plotting with Matplotlib\n",
    "# Because we can't plot the tensor variables with Matplotlib\n",
    "train_loss_for_plotting = [tensor_item.item() for tensor_item in train_loss_for_plotting]\n",
    "vali_loss_for_plotting = [tensor_item.item() for tensor_item in vali_loss_for_plotting]\n",
    "print(type(train_loss_for_plotting))\n",
    "print(type(vali_loss_for_plotting))\n",
    "\n",
    "# Create a numpy list from 1 to the number of epochs\n",
    "Epochs = np.arange(1, number_of_epochs + 1)\n",
    "type(Epochs)"
   ]
  },
  {
   "cell_type": "code",
   "execution_count": 40,
   "metadata": {
    "colab": {
     "base_uri": "https://localhost:8080/",
     "height": 449
    },
    "executionInfo": {
     "elapsed": 19,
     "status": "ok",
     "timestamp": 1708350147369,
     "user": {
      "displayName": "Supanut Sookkho",
      "userId": "07518805195197129211"
     },
     "user_tz": 0
    },
    "id": "PSiCI23LjfEa",
    "outputId": "cc27892f-27ab-45ad-97df-ed4bc6fbdab1"
   },
   "outputs": [
    {
     "data": {
      "image/png": "[encoded data removed]",
      "text/plain": [
       "<Figure size 640x480 with 1 Axes>"
      ]
     },
     "metadata": {},
     "output_type": "display_data"
    }
   ],
   "source": [
    "# Now, the type of train_loss_for_plotting and vali_loss_for_plotting are the list.\n",
    "# We are ready to plot them in Matplotlib\n",
    "plt.plot(Epochs, train_loss_for_plotting, label='Training Loss')\n",
    "plt.plot(Epochs, vali_loss_for_plotting, label='Validation Loss')\n",
    "plt.xlabel('Epochs')\n",
    "plt.ylabel('Loss')\n",
    "plt.legend()\n",
    "plt.show()"
   ]
  },
  {
   "cell_type": "code",
   "execution_count": 41,
   "metadata": {
    "id": "JjaVvIRCcKIs"
   },
   "outputs": [
    {
     "name": "stdout",
     "output_type": "stream",
     "text": [
      "Model accuracy: 78.95%\n"
     ]
    }
   ],
   "source": [
    "# Testing data set\n",
    "\n",
    "trained_model.eval()\n",
    "\n",
    "# From sigmoid probabilities to y labels\n",
    "y_test_pred =  trained_model(X_test)\n",
    "\n",
    "# Calculate the accuracy rate\n",
    "acc = (y_test_pred.round() == y_test).float().mean()\n",
    "acc = float(acc)\n",
    "print(\"Model accuracy: %.2f%%\" % (acc*100))"
   ]
  },
  {
   "cell_type": "code",
   "execution_count": 42,
   "metadata": {
    "id": "6EwLhScDfzj0"
   },
   "outputs": [
    {
     "data": {
      "text/plain": [
       "tensor([[0.3675],\n",
       "        [0.3844],\n",
       "        [0.4206],\n",
       "        [0.4114],\n",
       "        [0.4316],\n",
       "        [0.3872],\n",
       "        [0.4364],\n",
       "        [0.3770],\n",
       "        [0.3846],\n",
       "        [0.4376],\n",
       "        [0.4210],\n",
       "        [0.3735],\n",
       "        [0.4283],\n",
       "        [0.4281],\n",
       "        [0.3354],\n",
       "        [0.4255],\n",
       "        [0.4410],\n",
       "        [0.3796],\n",
       "        [0.4065],\n",
       "        [0.3915],\n",
       "        [0.3838],\n",
       "        [0.4073],\n",
       "        [0.4233],\n",
       "        [0.4170],\n",
       "        [0.4158],\n",
       "        [0.4310],\n",
       "        [0.3880],\n",
       "        [0.4010],\n",
       "        [0.4258],\n",
       "        [0.3684]], grad_fn=<SliceBackward0>)"
      ]
     },
     "execution_count": 42,
     "metadata": {},
     "output_type": "execute_result"
    }
   ],
   "source": [
    "y_test_pred[:30]"
   ]
  },
  {
   "cell_type": "code",
   "execution_count": 43,
   "metadata": {},
   "outputs": [
    {
     "name": "stdout",
     "output_type": "stream",
     "text": [
      "Final model - Validation set accuracy: 78.28%\n",
      "Fianl model - Testing set accuracy: 78.95%\n"
     ]
    }
   ],
   "source": [
    "# Train the final model with the hyperparameters\n",
    "# Get the best learning_rate and hidden_neurons\n",
    "the_best_learning_rate = best_hyperparameters['learning_rate']\n",
    "the_best_hidden_neurons = best_hyperparameters['hidden_neurons']\n",
    "\n",
    "# Create new instant with for the final model with the best number of hidden_neurons\n",
    "final_model = Credit_Churn_NN_Model(input_features, the_best_hidden_neurons, output_features)\n",
    "\n",
    "# Create the optimize function with best number of learning_rate\n",
    "optimizer = torch.optim.Adam(final_model.parameters(), lr=the_best_learning_rate)\n",
    "\n",
    "# Loss function\n",
    "criterion = torch.nn.BCELoss(reduction='mean')\n",
    "\n",
    "# Feeding the final model with X_train\n",
    "number_of_epochs = 300 \n",
    "for epoch in range(number_of_epochs):\n",
    "    final_model.train()\n",
    "    optimizer.zero_grad()\n",
    "    y_train_pred = final_model(X_train)\n",
    "    loss = criterion(y_train_pred, y_train)\n",
    "    loss.backward()\n",
    "    optimizer.step()\n",
    "\n",
    "# Validation Set with the final model\n",
    "final_model.eval()\n",
    "y_vali_pred =  trained_model(X_vali)\n",
    "# Calculate the accuracy rate\n",
    "acc = (y_vali_pred.round() == y_vali).float().mean()\n",
    "acc = float(acc)\n",
    "print(\"Final model - Validation set accuracy: %.2f%%\" % (acc*100))\n",
    "\n",
    "\n",
    "# Testing data set with the final model\n",
    "\n",
    "final_model.eval()\n",
    "y_test_pred =  trained_model(X_test)\n",
    "# Calculate the accuracy rate\n",
    "acc = (y_test_pred.round() == y_test).float().mean()\n",
    "acc = float(acc)\n",
    "print(\"Fianl model - Testing set accuracy: %.2f%%\" % (acc*100))"
   ]
  },
  {
   "cell_type": "code",
   "execution_count": null,
   "metadata": {},
   "outputs": [],
   "source": []
  }
 ],
 "metadata": {
  "colab": {
   "authorship_tag": "ABX9TyOn2z12wd/uzDtpIgazSB9p",
   "provenance": []
  },
  "kernelspec": {
   "display_name": "Python 3 (ipykernel)",
   "language": "python",
   "name": "python3"
  },
  "language_info": {
   "codemirror_mode": {
    "name": "ipython",
    "version": 3
   },
   "file_extension": ".py",
   "mimetype": "text/x-python",
   "name": "python",
   "nbconvert_exporter": "python",
   "pygments_lexer": "ipython3",
   "version": "3.10.9"
  }
 },
 "nbformat": 4,
 "nbformat_minor": 1
}

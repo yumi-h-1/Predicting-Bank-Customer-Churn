{
  "cells": [
    {
      "cell_type": "markdown",
      "metadata": {
        "id": "view-in-github",
        "colab_type": "text"
      },
      "source": [
        "<a href=\"https://colab.research.google.com/github/yumi-h-1/Predicting-Bank-Customer-Churn/blob/main/test.ipynb\" target=\"_parent\"><img src=\"https://colab.research.google.com/assets/colab-badge.svg\" alt=\"Open In Colab\"/></a>"
      ]
    },
    {
      "cell_type": "code",
      "source": [
        "# Mount the Google Drive\n",
        "from google.colab import drive\n",
        "drive.mount('/content/drive')"
      ],
      "metadata": {
        "colab": {
          "base_uri": "https://localhost:8080/"
        },
        "id": "EBCzOcaPX4mA",
        "outputId": "1edbdee7-0a91-42a2-b1a4-98f6daede6a4"
      },
      "id": "EBCzOcaPX4mA",
      "execution_count": 2,
      "outputs": [
        {
          "output_type": "stream",
          "name": "stdout",
          "text": [
            "Mounted at /content/drive\n"
          ]
        }
      ]
    },
    {
      "cell_type": "markdown",
      "id": "98bfab14",
      "metadata": {
        "id": "98bfab14"
      },
      "source": [
        "### 1. Import libraries"
      ]
    },
    {
      "cell_type": "code",
      "execution_count": null,
      "id": "d9bf7c4c",
      "metadata": {
        "id": "d9bf7c4c"
      },
      "outputs": [],
      "source": [
        "# Import libraries\n",
        "from joblib import dump, load\n",
        "import pandas as pd\n",
        "import numpy as np\n",
        "import matplotlib.pyplot as plt\n",
        "import torch\n",
        "import torch.nn as nn\n",
        "from torch.utils.data import TensorDataset, DataLoader\n",
        "from sklearn import svm\n",
        "from sklearn.svm import SVC\n",
        "from sklearn.metrics import accuracy_score\n",
        "import time\n",
        "import warnings\n",
        "#Set warnings ingored\n",
        "warnings.filterwarnings('ignore')"
      ]
    },
    {
      "cell_type": "markdown",
      "id": "c14c773c",
      "metadata": {
        "id": "c14c773c"
      },
      "source": [
        "### 2. Final MLP model"
      ]
    },
    {
      "cell_type": "markdown",
      "id": "eeac9ae3",
      "metadata": {
        "id": "eeac9ae3"
      },
      "source": [
        "### 2.1. Import the final MLP model"
      ]
    },
    {
      "cell_type": "code",
      "execution_count": null,
      "id": "f4194b8a",
      "metadata": {
        "id": "f4194b8a"
      },
      "outputs": [],
      "source": [
        "# First, define the final MLP model structure\n",
        "class final_MLP(nn.Module):\n",
        "    def __init__(self, input_size, hidden_units1, hidden_units2, output_size):\n",
        "        super(final_MLP, self).__init__()\n",
        "        self.fc1 = nn.Linear(input_size, hidden_units1)\n",
        "        self.fc2 = nn.Linear(hidden_units1, hidden_units2)\n",
        "        self.fc3 = nn.Linear(hidden_units2, output_size)\n",
        "        self.relu = nn.ReLU()\n",
        "        self.sigmoid = nn.Sigmoid()\n",
        "\n",
        "    def forward(self, x):\n",
        "        x = self.relu(self.fc1(x))\n",
        "        x = self.relu(self.fc2(x))\n",
        "        x = self.fc3(x)\n",
        "        return self.sigmoid(x)"
      ]
    },
    {
      "cell_type": "code",
      "execution_count": null,
      "id": "1d30730a",
      "metadata": {
        "id": "1d30730a"
      },
      "outputs": [],
      "source": [
        "# Define the size and units in the final MLP model\n",
        "input_size = 10\n",
        "output_size = 1\n",
        "hidden_units1 = 6\n",
        "hidden_units2 = 4"
      ]
    },
    {
      "cell_type": "code",
      "execution_count": null,
      "id": "3cee3aca",
      "metadata": {
        "id": "3cee3aca",
        "outputId": "ff487ba3-5591-4468-e54d-fdd483413596"
      },
      "outputs": [
        {
          "data": {
            "text/plain": [
              "<All keys matched successfully>"
            ]
          },
          "execution_count": 4,
          "metadata": {},
          "output_type": "execute_result"
        }
      ],
      "source": [
        "# Load the final MLP model\n",
        "best_MLP_model = final_MLP(input_size, hidden_units1, hidden_units2, output_size)\n",
        "best_MLP_model.load_state_dict(torch.load('best_mlp_model.pth'))"
      ]
    },
    {
      "cell_type": "markdown",
      "id": "e854a27a",
      "metadata": {
        "id": "e854a27a"
      },
      "source": [
        "### 2.2. Load the test set for the final MLP model"
      ]
    },
    {
      "cell_type": "code",
      "execution_count": null,
      "id": "51e1f583",
      "metadata": {
        "id": "51e1f583"
      },
      "outputs": [],
      "source": [
        "# Load X_test and y_test for the MLP model\n",
        "X_test_mlp = torch.load('X_test_for_MLP.pth')\n",
        "y_test_mlp = torch.load('y_test_for_MLP.pth')"
      ]
    },
    {
      "cell_type": "code",
      "execution_count": null,
      "id": "8983f3b1",
      "metadata": {
        "id": "8983f3b1"
      },
      "outputs": [],
      "source": [
        "# Define the batch size\n",
        "batch_size = 64 # Match the number used for training"
      ]
    },
    {
      "cell_type": "markdown",
      "id": "b892cffd",
      "metadata": {
        "id": "b892cffd"
      },
      "source": [
        "### 2.3. Test the final MLP model"
      ]
    },
    {
      "cell_type": "code",
      "execution_count": null,
      "id": "f1acad30",
      "metadata": {
        "id": "f1acad30",
        "outputId": "a1eba3c2-27d4-4243-f123-3afaed9f9877"
      },
      "outputs": [
        {
          "name": "stdout",
          "output_type": "stream",
          "text": [
            "Test Accuracy: 86.32%\n",
            "Test time of MLP model: 2.83 seconds\n"
          ]
        }
      ],
      "source": [
        "# Record the starting time\n",
        "start_time = time.time()\n",
        "\n",
        "# Test the MLP model\n",
        "best_MLP_model.eval()\n",
        "\n",
        "# Make variables to track correct predictions and total counts in y_test\n",
        "correct = 0\n",
        "total = 0\n",
        "\n",
        "with torch.no_grad():\n",
        "    for batch_X_test, batch_y_test in zip(X_test_mlp, y_test_mlp):\n",
        "        outputs_test = best_MLP_model(batch_X_test)\n",
        "        # Convert test outputs to predicted class as 0 or 1\n",
        "        predicted = (outputs_test > 0.5).float()\n",
        "        # Count total counts in y_test and correct predictions\n",
        "        total += batch_y_test.size(0)\n",
        "        correct += (predicted == batch_y_test).sum().item()\n",
        "\n",
        "# Record the ending time\n",
        "end_time = time.time()\n",
        "\n",
        "# Calculate accuracy\n",
        "accuracy = correct / total\n",
        "print(f'Test Accuracy: {accuracy*100:.2f}%')\n",
        "\n",
        "# Calculate the elapsed time\n",
        "elapsed_time = end_time - start_time\n",
        "print(f'Test time of MLP model: {elapsed_time:.2f} seconds')"
      ]
    },
    {
      "cell_type": "markdown",
      "id": "9a548857",
      "metadata": {
        "id": "9a548857"
      },
      "source": [
        "### 3. Final SVM model"
      ]
    },
    {
      "cell_type": "markdown",
      "id": "80f73358",
      "metadata": {
        "id": "80f73358"
      },
      "source": [
        "### 3.1. Import the final SVM model"
      ]
    },
    {
      "cell_type": "code",
      "execution_count": null,
      "id": "41beb92a",
      "metadata": {
        "id": "41beb92a"
      },
      "outputs": [],
      "source": [
        "# Load the final SVM model\n",
        "best_SVM_model = load('best_svm_model.joblib')"
      ]
    },
    {
      "cell_type": "markdown",
      "id": "744c8549",
      "metadata": {
        "id": "744c8549"
      },
      "source": [
        "### 3.2. Load the test set for the final SVM model"
      ]
    },
    {
      "cell_type": "code",
      "execution_count": null,
      "id": "eb004fa2",
      "metadata": {
        "id": "eb004fa2"
      },
      "outputs": [],
      "source": [
        "# Load X_test and y_test\n",
        "X_test_svm = pd.read_csv('X_test_for_SVM.csv', header=None)\n",
        "y_test_svm = pd.read_csv('y_test_for_SVM.csv', header=None)"
      ]
    },
    {
      "cell_type": "code",
      "execution_count": null,
      "id": "f56204a9",
      "metadata": {
        "id": "f56204a9",
        "outputId": "36f731d9-1c5e-4f06-f699-0ac383b9cf1a"
      },
      "outputs": [
        {
          "data": {
            "text/html": [
              "<div>\n",
              "<style scoped>\n",
              "    .dataframe tbody tr th:only-of-type {\n",
              "        vertical-align: middle;\n",
              "    }\n",
              "\n",
              "    .dataframe tbody tr th {\n",
              "        vertical-align: top;\n",
              "    }\n",
              "\n",
              "    .dataframe thead th {\n",
              "        text-align: right;\n",
              "    }\n",
              "</style>\n",
              "<table border=\"1\" class=\"dataframe\">\n",
              "  <thead>\n",
              "    <tr style=\"text-align: right;\">\n",
              "      <th></th>\n",
              "      <th>0</th>\n",
              "      <th>1</th>\n",
              "      <th>2</th>\n",
              "      <th>3</th>\n",
              "      <th>4</th>\n",
              "      <th>5</th>\n",
              "      <th>6</th>\n",
              "      <th>7</th>\n",
              "      <th>8</th>\n",
              "      <th>9</th>\n",
              "    </tr>\n",
              "  </thead>\n",
              "  <tbody>\n",
              "    <tr>\n",
              "      <th>0</th>\n",
              "      <td>0.896</td>\n",
              "      <td>0.0</td>\n",
              "      <td>0.0</td>\n",
              "      <td>0.175676</td>\n",
              "      <td>0.8</td>\n",
              "      <td>0.406842</td>\n",
              "      <td>0.000000</td>\n",
              "      <td>1.0</td>\n",
              "      <td>0.0</td>\n",
              "      <td>0.397867</td>\n",
              "    </tr>\n",
              "    <tr>\n",
              "      <th>1</th>\n",
              "      <td>0.558</td>\n",
              "      <td>0.0</td>\n",
              "      <td>1.0</td>\n",
              "      <td>0.108108</td>\n",
              "      <td>0.6</td>\n",
              "      <td>0.000000</td>\n",
              "      <td>0.333333</td>\n",
              "      <td>1.0</td>\n",
              "      <td>0.0</td>\n",
              "      <td>0.190914</td>\n",
              "    </tr>\n",
              "  </tbody>\n",
              "</table>\n",
              "</div>"
            ],
            "text/plain": [
              "       0    1    2         3    4         5         6    7    8         9\n",
              "0  0.896  0.0  0.0  0.175676  0.8  0.406842  0.000000  1.0  0.0  0.397867\n",
              "1  0.558  0.0  1.0  0.108108  0.6  0.000000  0.333333  1.0  0.0  0.190914"
            ]
          },
          "execution_count": 10,
          "metadata": {},
          "output_type": "execute_result"
        }
      ],
      "source": [
        "# Check X_test\n",
        "X_test_svm.head(2)"
      ]
    },
    {
      "cell_type": "code",
      "execution_count": null,
      "id": "971bc936",
      "metadata": {
        "id": "971bc936",
        "outputId": "9fecc16b-46c0-4720-8efb-56b9d3f80dba"
      },
      "outputs": [
        {
          "data": {
            "text/html": [
              "<div>\n",
              "<style scoped>\n",
              "    .dataframe tbody tr th:only-of-type {\n",
              "        vertical-align: middle;\n",
              "    }\n",
              "\n",
              "    .dataframe tbody tr th {\n",
              "        vertical-align: top;\n",
              "    }\n",
              "\n",
              "    .dataframe thead th {\n",
              "        text-align: right;\n",
              "    }\n",
              "</style>\n",
              "<table border=\"1\" class=\"dataframe\">\n",
              "  <thead>\n",
              "    <tr style=\"text-align: right;\">\n",
              "      <th></th>\n",
              "      <th>0</th>\n",
              "    </tr>\n",
              "  </thead>\n",
              "  <tbody>\n",
              "    <tr>\n",
              "      <th>0</th>\n",
              "      <td>0.0</td>\n",
              "    </tr>\n",
              "    <tr>\n",
              "      <th>1</th>\n",
              "      <td>0.0</td>\n",
              "    </tr>\n",
              "  </tbody>\n",
              "</table>\n",
              "</div>"
            ],
            "text/plain": [
              "     0\n",
              "0  0.0\n",
              "1  0.0"
            ]
          },
          "execution_count": 11,
          "metadata": {},
          "output_type": "execute_result"
        }
      ],
      "source": [
        "# Check y_test\n",
        "y_test_svm.head(2)"
      ]
    },
    {
      "cell_type": "code",
      "execution_count": null,
      "id": "93e423c1",
      "metadata": {
        "id": "93e423c1",
        "outputId": "e3b977b7-6ddf-4f11-ba80-4a99f952f3d0"
      },
      "outputs": [
        {
          "name": "stdout",
          "output_type": "stream",
          "text": [
            "<class 'pandas.core.frame.DataFrame'>\n",
            "<class 'pandas.core.frame.DataFrame'>\n",
            "(33007, 10)\n",
            "(33007, 1)\n"
          ]
        }
      ],
      "source": [
        "# Check the value and dimention of X_test and y_test\n",
        "print(type(X_test_svm))\n",
        "print(type(y_test_svm))\n",
        "print(X_test_svm.shape)\n",
        "print(y_test_svm.shape)"
      ]
    },
    {
      "cell_type": "code",
      "execution_count": null,
      "id": "b303b22f",
      "metadata": {
        "id": "b303b22f"
      },
      "outputs": [],
      "source": [
        "# Convert Pandas to Numpy array\n",
        "X_test_svm = X_test_svm.values\n",
        "y_test_svm = y_test_svm.values"
      ]
    },
    {
      "cell_type": "code",
      "execution_count": null,
      "id": "1853431c",
      "metadata": {
        "scrolled": true,
        "id": "1853431c",
        "outputId": "8bf465f3-1523-4e28-8a0b-10d995c2e465"
      },
      "outputs": [
        {
          "name": "stdout",
          "output_type": "stream",
          "text": [
            "<class 'numpy.ndarray'>\n",
            "<class 'numpy.ndarray'>\n",
            "(33007, 10)\n",
            "(33007, 1)\n"
          ]
        }
      ],
      "source": [
        "# Double-check the value and dimension of X_test and y_test\n",
        "print(type(X_test_svm))\n",
        "print(type(y_test_svm))\n",
        "print(X_test_svm.shape)\n",
        "print(y_test_svm.shape)"
      ]
    },
    {
      "cell_type": "markdown",
      "id": "8e8e8933",
      "metadata": {
        "id": "8e8e8933"
      },
      "source": [
        "### 3.3. Test the final SVM model"
      ]
    },
    {
      "cell_type": "code",
      "execution_count": null,
      "id": "8e243843",
      "metadata": {
        "id": "8e243843",
        "outputId": "e8ea5c6a-0792-4e80-9abf-e39fc18ca8bf"
      },
      "outputs": [
        {
          "name": "stdout",
          "output_type": "stream",
          "text": [
            "Test Accuracy: 85.73%\n",
            "Test time of SVM model: 63.88 seconds\n"
          ]
        }
      ],
      "source": [
        "# Record the starting time\n",
        "start_time = time.time()\n",
        "\n",
        "# Test the SVM model\n",
        "predictions = best_SVM_model.predict(X_test_svm)\n",
        "# Calculate the accuracy\n",
        "test_accuracy = accuracy_score(y_test_svm, predictions)\n",
        "\n",
        "# Record the ending time\n",
        "end_time = time.time()\n",
        "\n",
        "print(f\"Test Accuracy: {test_accuracy*100:.2f}%\")\n",
        "\n",
        "# Calculate the elapsed time\n",
        "elapsed_time = end_time - start_time\n",
        "print(f'Test time of SVM model: {elapsed_time:.2f} seconds')"
      ]
    },
    {
      "cell_type": "markdown",
      "id": "3a5fa742",
      "metadata": {
        "id": "3a5fa742"
      },
      "source": [
        "### 4. Compare MLP and SVM models."
      ]
    },
    {
      "cell_type": "markdown",
      "id": "489a5a40",
      "metadata": {
        "id": "489a5a40"
      },
      "source": [
        "### 4.1. ROC Curve"
      ]
    },
    {
      "cell_type": "code",
      "execution_count": null,
      "id": "355680c7",
      "metadata": {
        "id": "355680c7"
      },
      "outputs": [],
      "source": [
        "# Import the library\n",
        "from sklearn.metrics import roc_curve, auc"
      ]
    },
    {
      "cell_type": "code",
      "execution_count": null,
      "id": "e91e022d",
      "metadata": {
        "id": "e91e022d",
        "outputId": "83ed522b-2794-4938-ba14-01bfc455e74b"
      },
      "outputs": [
        {
          "data": {
            "image/png": "[encoded data removed]",
            "text/plain": [
              "<Figure size 800x600 with 1 Axes>"
            ]
          },
          "metadata": {},
          "output_type": "display_data"
        }
      ],
      "source": [
        "# Get predicted probabilities from the MLP model\n",
        "probs_mlp = []\n",
        "with torch.no_grad():\n",
        "    for batch_X_test in X_test_mlp:\n",
        "        outputs_test = best_MLP_model(batch_X_test)\n",
        "        probs_mlp.extend(outputs_test.numpy())\n",
        "\n",
        "# Get predicted probabilities from the SVM model\n",
        "probs_svm = best_SVM_model.decision_function(X_test_svm)\n",
        "\n",
        "# Calculate ROC curve of MLP model\n",
        "fpr_mlp, tpr_mlp, thresholds = roc_curve(y_test_mlp, probs_mlp)\n",
        "\n",
        "# Calculate ROC curve of SVM model\n",
        "fpr_svm, tpr_svm, thresholds = roc_curve(y_test_svm, probs_svm)\n",
        "\n",
        "# Plot ROC curves of two models\n",
        "plt.figure(figsize=(8, 6))\n",
        "plt.plot(fpr_mlp, tpr_mlp, color='blue', lw=1, label='MLP')\n",
        "plt.plot(fpr_svm, tpr_svm, color='red', lw=1, label='SVM')\n",
        "plt.xlabel('False Positive Rate')\n",
        "plt.ylabel('True Positive Rate')\n",
        "plt.title('ROC Curve')\n",
        "plt.legend()\n",
        "plt.show()"
      ]
    },
    {
      "cell_type": "markdown",
      "id": "11533bd0",
      "metadata": {
        "id": "11533bd0"
      },
      "source": [
        "### 4.2. AUC"
      ]
    },
    {
      "cell_type": "code",
      "execution_count": null,
      "id": "5a055d36",
      "metadata": {
        "id": "5a055d36",
        "outputId": "243e1914-3a44-470e-9f68-3934d26f63bf"
      },
      "outputs": [
        {
          "name": "stdout",
          "output_type": "stream",
          "text": [
            "AUC of the MLP model: 0.89\n",
            "AUC of the SVM model: 0.84\n"
          ]
        }
      ],
      "source": [
        "# Calculate the AUC for each model\n",
        "auc_mlp = auc(fpr_mlp, tpr_mlp)\n",
        "auc_svm = auc(fpr_svm, tpr_svm)\n",
        "print(f\"AUC of the MLP model: {auc_mlp:.2f}\")\n",
        "print(f\"AUC of the SVM model: {auc_svm:.2f}\")"
      ]
    },
    {
      "cell_type": "markdown",
      "id": "e5fb1c6a",
      "metadata": {
        "id": "e5fb1c6a"
      },
      "source": [
        "### 4.3. Precision-Recall Curve"
      ]
    },
    {
      "cell_type": "code",
      "execution_count": null,
      "id": "70a2f4a9",
      "metadata": {
        "id": "70a2f4a9"
      },
      "outputs": [],
      "source": [
        "# Import the library\n",
        "from sklearn.metrics import precision_recall_curve, average_precision_score"
      ]
    },
    {
      "cell_type": "code",
      "execution_count": null,
      "id": "b421c0d6",
      "metadata": {
        "scrolled": false,
        "id": "b421c0d6",
        "outputId": "2ee48fb6-63ad-4245-f4d2-3fdc2c3d2491"
      },
      "outputs": [
        {
          "data": {
            "image/png": "[encoded data removed]",
            "text/plain": [
              "<Figure size 800x600 with 1 Axes>"
            ]
          },
          "metadata": {},
          "output_type": "display_data"
        }
      ],
      "source": [
        "# Get precision-recall curve for MLP model\n",
        "precision_mlp, recall_mlp, thresholds = precision_recall_curve(y_test_mlp, probs_mlp)\n",
        "\n",
        "# Get precision-recall curve for SVM model\n",
        "precision_svm, recall_svm, thresholds = precision_recall_curve(y_test_svm, probs_svm)\n",
        "\n",
        "# Plot precision-recall curves\n",
        "plt.figure(figsize=(8, 6))\n",
        "plt.plot(recall_mlp, precision_mlp, color='blue', lw=1, label='MLP')\n",
        "plt.plot(recall_svm, precision_svm, color='red', lw=1, label='SVM')\n",
        "plt.xlabel('Recall')\n",
        "plt.ylabel('Precision')\n",
        "plt.title('Precision-Recall Curve')\n",
        "plt.legend()\n",
        "plt.show()"
      ]
    },
    {
      "cell_type": "markdown",
      "id": "6cdf60b3",
      "metadata": {
        "id": "6cdf60b3"
      },
      "source": [
        "### 4.4. Average precision score"
      ]
    },
    {
      "cell_type": "code",
      "execution_count": null,
      "id": "1f7f1f62",
      "metadata": {
        "id": "1f7f1f62",
        "outputId": "6cca229d-77d7-4734-f54b-ac8d161ed439"
      },
      "outputs": [
        {
          "name": "stdout",
          "output_type": "stream",
          "text": [
            "Average Precision of the MLP model: 0.72\n",
            "Average Precision of the SVM model: 0.68\n"
          ]
        }
      ],
      "source": [
        "#Calculate the average precision score for each model\n",
        "average_precision_mlp = average_precision_score(y_test_mlp, probs_mlp)\n",
        "average_precision_svm = average_precision_score(y_test_svm, probs_svm)\n",
        "print(f\"Average Precision of the MLP model: {average_precision_mlp:.2f}\")\n",
        "print(f\"Average Precision of the SVM model: {average_precision_svm:.2f}\")"
      ]
    },
    {
      "cell_type": "code",
      "execution_count": null,
      "id": "3c74b652",
      "metadata": {
        "id": "3c74b652"
      },
      "outputs": [],
      "source": []
    },
    {
      "cell_type": "code",
      "execution_count": null,
      "id": "4404b76d",
      "metadata": {
        "id": "4404b76d"
      },
      "outputs": [],
      "source": []
    },
    {
      "cell_type": "code",
      "execution_count": null,
      "id": "8cf19bf6",
      "metadata": {
        "id": "8cf19bf6"
      },
      "outputs": [],
      "source": []
    }
  ],
  "metadata": {
    "kernelspec": {
      "display_name": "Python 3 (ipykernel)",
      "language": "python",
      "name": "python3"
    },
    "language_info": {
      "codemirror_mode": {
        "name": "ipython",
        "version": 3
      },
      "file_extension": ".py",
      "mimetype": "text/x-python",
      "name": "python",
      "nbconvert_exporter": "python",
      "pygments_lexer": "ipython3",
      "version": "3.9.12"
    },
    "colab": {
      "provenance": [],
      "include_colab_link": true
    }
  },
  "nbformat": 4,
  "nbformat_minor": 5
}
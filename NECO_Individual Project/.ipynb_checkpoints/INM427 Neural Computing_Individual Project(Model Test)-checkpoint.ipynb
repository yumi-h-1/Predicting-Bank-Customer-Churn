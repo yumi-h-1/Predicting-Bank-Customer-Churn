{
 "cells": [
  {
   "cell_type": "markdown",
   "id": "2f0566ab",
   "metadata": {},
   "source": [
    "# INM427 Neural Computing\n",
    "## Individual Project - Yumi Heo (Msc Data Science / 230003122)\n",
    "## A Comparison of Multilayer Perceptrons and Support Vector Machines for Bank Churn Prediction\n",
    "## - Model test"
   ]
  },
  {
   "cell_type": "markdown",
   "id": "98bfab14",
   "metadata": {},
   "source": [
    "### 1. Import the test set"
   ]
  },
  {
   "cell_type": "code",
   "execution_count": null,
   "id": "d9bf7c4c",
   "metadata": {},
   "outputs": [],
   "source": []
  },
  {
   "cell_type": "code",
   "execution_count": null,
   "id": "eb004fa2",
   "metadata": {},
   "outputs": [],
   "source": []
  },
  {
   "cell_type": "markdown",
   "id": "c14c773c",
   "metadata": {},
   "source": [
    "### 2. Import the MLP model"
   ]
  },
  {
   "cell_type": "code",
   "execution_count": null,
   "id": "3cee3aca",
   "metadata": {},
   "outputs": [],
   "source": [
    "import torch\n",
    "import joblib\n",
    "\n",
    "# Load the model dictionary\n",
    "model_dict = joblib.load('mlp_model.joblib')\n",
    "\n",
    "# Reconstruct the PyTorch model\n",
    "class MLP(torch.nn.Module):\n",
    "    def __init__(self, input_size, hidden_size, output_size):\n",
    "        super(MLP, self).__init__()\n",
    "        self.fc1 = torch.nn.Linear(input_size, hidden_size)\n",
    "        self.fc2 = torch.nn.Linear(hidden_size, output_size)\n",
    "\n",
    "    def forward(self, x):\n",
    "        x = torch.nn.functional.relu(self.fc1(x))\n",
    "        x = self.fc2(x)\n",
    "        return x\n",
    "\n",
    "input_size = model_dict['input_size']\n",
    "hidden_size = model_dict['hidden_size']\n",
    "output_size = model_dict['output_size']\n",
    "\n",
    "model = MLP(input_size, hidden_size, output_size)\n",
    "model.load_state_dict(model_dict['state_dict'])\n",
    "\n",
    "# Now, you can use the model for testing\n",
    "# For example, if you have some test data `X_test`:\n",
    "X_test = torch.randn(10, input_size)  # Example test data\n",
    "with torch.no_grad():\n",
    "    model.eval()  # Set the model to evaluation mode\n",
    "    output = model(X_test)\n",
    "    # Process the output as needed\n"
   ]
  },
  {
   "cell_type": "code",
   "execution_count": null,
   "id": "f1acad30",
   "metadata": {},
   "outputs": [],
   "source": []
  },
  {
   "cell_type": "code",
   "execution_count": null,
   "id": "49bdcb82",
   "metadata": {},
   "outputs": [],
   "source": []
  },
  {
   "cell_type": "code",
   "execution_count": null,
   "id": "d64fc570",
   "metadata": {},
   "outputs": [],
   "source": []
  },
  {
   "cell_type": "markdown",
   "id": "9a548857",
   "metadata": {},
   "source": [
    "### Import the SVM model"
   ]
  },
  {
   "cell_type": "code",
   "execution_count": null,
   "id": "5dd7a240",
   "metadata": {},
   "outputs": [],
   "source": []
  },
  {
   "cell_type": "code",
   "execution_count": null,
   "id": "8e243843",
   "metadata": {},
   "outputs": [],
   "source": []
  },
  {
   "cell_type": "code",
   "execution_count": null,
   "id": "e91e022d",
   "metadata": {},
   "outputs": [],
   "source": []
  },
  {
   "cell_type": "code",
   "execution_count": null,
   "id": "b421c0d6",
   "metadata": {},
   "outputs": [],
   "source": []
  },
  {
   "cell_type": "code",
   "execution_count": null,
   "id": "2e9c2639",
   "metadata": {},
   "outputs": [],
   "source": []
  }
 ],
 "metadata": {
  "kernelspec": {
   "display_name": "Python 3 (ipykernel)",
   "language": "python",
   "name": "python3"
  },
  "language_info": {
   "codemirror_mode": {
    "name": "ipython",
    "version": 3
   },
   "file_extension": ".py",
   "mimetype": "text/x-python",
   "name": "python",
   "nbconvert_exporter": "python",
   "pygments_lexer": "ipython3",
   "version": "3.10.9"
  }
 },
 "nbformat": 4,
 "nbformat_minor": 5
}
